{
 "cells": [
  {
   "cell_type": "markdown",
   "metadata": {},
   "source": [
    "### GENERATE_DH"
   ]
  },
  {
   "cell_type": "code",
   "execution_count": 16,
   "metadata": {},
   "outputs": [
    {
     "name": "stdout",
     "output_type": "stream",
     "text": [
      "Private key: b'X\\x19\\x81\\xcb\\xcf\\xca\\x97\\t\\x00[A<\\xe5b\\xab[\\\\z\\x19P\\x07|\\x1d\\xc6\\xa9\\xca\\xe6Y\\xd1\\xba\\xaf{'\n",
      "Length Private key: 32\n",
      "\n",
      "Public key: b'\\x93\\xea\\xf5\\x1c\\xdf1.\\x99.\\xf8?\\xc1\\xcc\\xe5(K\\xef\\xc2\\xc2\\x08m\\xc70P\\x07\\xd8\\xec-\\x99X\\xa6-'\n",
      "Length Public key: 32\n"
     ]
    }
   ],
   "source": [
    "from cryptography.hazmat.primitives.asymmetric.x25519 import X25519PrivateKey\n",
    "from cryptography.hazmat.primitives import serialization\n",
    "\n",
    "class DH_pair:\n",
    "    def __init__(self, dh_priv, dh_pub) -> None:\n",
    "        self.dh_priv = dh_priv\n",
    "        self.dh_pub = dh_pub\n",
    "\n",
    "def GENERATE_DH():\n",
    "    # Generate a new DH pair key.\n",
    "    dh_priv = X25519PrivateKey.generate()\n",
    "    dh_pub = dh_priv.public_key()\n",
    "    \n",
    "    return DH_pair(dh_priv, dh_pub)\n",
    "\n",
    "dh_pair = GENERATE_DH()\n",
    "dh_pair2 = GENERATE_DH()\n",
    "\n",
    "print(\"Private key:\", dh_pair.dh_priv.private_bytes(encoding=serialization.Encoding.Raw, format=serialization.PrivateFormat.Raw, encryption_algorithm=serialization.NoEncryption()))\n",
    "print(\"Length Private key:\", len(dh_pair.dh_priv.private_bytes(encoding=serialization.Encoding.Raw, format=serialization.PrivateFormat.Raw, encryption_algorithm=serialization.NoEncryption())))\n",
    "print()\n",
    "print(\"Public key:\", dh_pair.dh_pub.public_bytes(encoding=serialization.Encoding.Raw, format=serialization.PublicFormat.Raw))\n",
    "print(\"Length Public key:\", len(dh_pair.dh_pub.public_bytes(encoding=serialization.Encoding.Raw, format=serialization.PublicFormat.Raw)))\n"
   ]
  },
  {
   "cell_type": "markdown",
   "metadata": {},
   "source": [
    "### DH"
   ]
  },
  {
   "cell_type": "code",
   "execution_count": 17,
   "metadata": {},
   "outputs": [
    {
     "name": "stdout",
     "output_type": "stream",
     "text": [
      "Shared secret 1: b'\\x1f\\xd5$kMQ\\xb1\\x99\\xb1\\xe4Y\\x01\\x86\\x1c\\x04\\x90U\\xf3\\\\\\xd9t\\x82\"J\\xa6\\xdf\\x92w\\xb8\\x06\\xf4\\x01'\n",
      "Shared secret 2: b'\\x1f\\xd5$kMQ\\xb1\\x99\\xb1\\xe4Y\\x01\\x86\\x1c\\x04\\x90U\\xf3\\\\\\xd9t\\x82\"J\\xa6\\xdf\\x92w\\xb8\\x06\\xf4\\x01'\n"
     ]
    }
   ],
   "source": [
    "def DH(dh_pair: DH_pair, dh_pub):\n",
    "    # Perform DH calculation between private key and public key\n",
    "    return dh_pair.dh_priv.exchange(dh_pub)\n",
    "\n",
    "# Calcular la clave compartida usando la función DH()\n",
    "dh_out = DH(dh_pair=dh_pair, dh_pub=dh_pair2.dh_pub)\n",
    "dh_out2 = DH(dh_pair=dh_pair2, dh_pub=dh_pair.dh_pub)\n",
    "print(\"Shared secret 1:\", dh_out)\n",
    "print(\"Shared secret 2:\", dh_out2)"
   ]
  },
  {
   "cell_type": "markdown",
   "metadata": {},
   "source": [
    "### KDF_RK"
   ]
  },
  {
   "cell_type": "code",
   "execution_count": 18,
   "metadata": {},
   "outputs": [
    {
     "name": "stdout",
     "output_type": "stream",
     "text": [
      "Random 32 bytes: b'B\\xcf\\x19g\\x07\\xe3\\x17\\xdbb\\x1c\\x93f\\xebV1vL\\xaf\\x95\\x1c\\x16\\x05k\\x166\\x82YX\\x13\\xe0\\xad\\x00'\n"
     ]
    }
   ],
   "source": [
    "import secrets\n",
    "\n",
    "rk = secrets.token_bytes(32)\n",
    "print(\"Random\",len(rk),\"bytes:\", rk)"
   ]
  },
  {
   "cell_type": "code",
   "execution_count": 19,
   "metadata": {},
   "outputs": [
    {
     "name": "stdout",
     "output_type": "stream",
     "text": [
      "Root Key: b'H\\xbb\\x16\\x1f\\xd2\\x1f\\xaa\\xe2~\\x1d[\\xa8\\x8a\\xbaZ\\xc4\\xf5C\\xba[V\\xb6\\xe2\\xe8HG\\x1f\\x14\\xb9\\xe0\\xea\\x16'\n",
      "Length Root Key: 32 \n",
      "\n",
      "Chain Key: b\"'\\xfa@\\x15\\xcck+\\xa0\\x94\\xe6M\\x14\\xeaPh|`\\xa1\\xb49\\x9cW\\xa3\\xf6,\\x88\\x97w\\xb0bJ\\x84\"\n",
      "Length Chain Key: 32\n"
     ]
    }
   ],
   "source": [
    "from hkdf import hkdf_expand, hkdf_extract\n",
    "from binascii import unhexlify\n",
    "import hashlib\n",
    "\n",
    "def KDF_RK(rk: bytes, dh_out: bytes) -> [[bytes]*32, [bytes]*32]:\n",
    "    prk = hkdf_extract(salt=rk, input_key_material=dh_out, hash=hashlib.sha512)\n",
    "    key = hkdf_expand(pseudo_random_key=prk, info=b\"Info KDF_RK\", length=64, hash=hashlib.sha512)\n",
    "\n",
    "    return key[:32],key[32:] # Root Key, Chain Key\n",
    "\n",
    "rk, ck = KDF_RK(rk=rk, dh_out=dh_out)\n",
    "print(\"Root Key:\", rk)\n",
    "print(\"Length Root Key:\", len(rk), \"\\n\")\n",
    "print(\"Chain Key:\", ck)\n",
    "print(\"Length Chain Key:\", len(ck))"
   ]
  },
  {
   "cell_type": "markdown",
   "metadata": {},
   "source": [
    "### KDF_CK"
   ]
  },
  {
   "cell_type": "code",
   "execution_count": 20,
   "metadata": {},
   "outputs": [
    {
     "name": "stdout",
     "output_type": "stream",
     "text": [
      "Chain Key: b'\\xd0\\xd7+i\\xf2o\\xbc\\xfc\\xa5\\xebT\\x1d<q7r\\xe4\\x15\\x1b+\\xc0W\\xc3\\x94\\xbc\\xfa\\xec\\x85\\x06CR\\xfe'\n",
      "Length Chain Key: 32\n",
      "\n",
      "Message Key: b'\\xbd\\xbf(F\\xa2%.\\xf8*\\xe9\\xaci\\xdc\\xa7\\x94\\xb7~(\\x96\\x86SR\\xac\\xc3\\xbfk\\xf6Ox\\x04\\x1d\\xa9'\n",
      "Length Message Key: 32\n"
     ]
    }
   ],
   "source": [
    "import hmac\n",
    "\n",
    "def KDF_CK(ck: bytes) -> [[bytes]*32, [bytes]*32]:\n",
    "    new_ck = hmac.new(key=ck, msg=b'Chain Key', digestmod=hashlib.sha512)\n",
    "    mk = hmac.new(key=ck, msg=b'Message Key', digestmod=hashlib.sha512)\n",
    "\n",
    "    return new_ck.digest()[:32], mk.digest()[:32] # Chain Key, Message Key\n",
    "\n",
    "\n",
    "ck, mk = KDF_CK(ck=ck)\n",
    "\n",
    "print(\"Chain Key:\",ck)\n",
    "print(\"Length Chain Key:\",len(ck))\n",
    "print()\n",
    "print(\"Message Key:\",mk)\n",
    "print(\"Length Message Key:\",len(mk))\n"
   ]
  },
  {
   "cell_type": "markdown",
   "metadata": {},
   "source": [
    "### ENCRYPT"
   ]
  },
  {
   "cell_type": "code",
   "execution_count": 21,
   "metadata": {},
   "outputs": [
    {
     "name": "stdout",
     "output_type": "stream",
     "text": [
      "b\"9\\xe3\\x9b\\xbb\\x99\\x92h\\x01\\xfb\\xd9\\xbe\\xb1\\x95\\x03\\xf3z\\xb0yRO\\x9d\\xd6\\xa1\\xef\\xce\\xc2\\x87\\x13A'\\xd1\\xc6T\\x94\\t\\xcd\\x8a\\xe7S\\xa0\\x860q\\xc1\\xf6b\\x05\\x9fk\\xe1m\\xc4`S\\xc4\\x05sx\\xb2\\xbf%vD\\xd6\\x0eS\\xc1\\xac\\x02\\xbcwC\\xa3\\xc3\\xe5\\x10\\xe2\\x87\\xa3\\x96(\\xf8\\x16\\xfe\\xf3\\xc7\\xa44L\\n$\\x06ow\\xbaO\"\n",
      "96\n"
     ]
    }
   ],
   "source": [
    "from cryptography.hazmat.backends import default_backend\n",
    "from cryptography.hazmat.primitives.ciphers.aead import AESGCM\n",
    "from cryptography.hazmat.primitives import hashes\n",
    "from cryptography.hazmat.primitives import padding  # - Import to use the padding.\n",
    "from cryptography.hazmat.primitives.ciphers import (\n",
    "    Cipher, algorithms, modes\n",
    ")\n",
    "\n",
    "def ENCRYPT(mk: bytes, plaintext: bytes, assotiate_data: bytes):\n",
    "    # Key Derivation Function\n",
    "    output_length = 80\n",
    "    prk = hkdf_extract(salt=bytes(output_length), input_key_material=mk, hash=hashlib.sha512)\n",
    "    exp = hkdf_expand(pseudo_random_key=prk, info=b\"Info ENCRYPT/DECRYPT\", length=output_length, hash=hashlib.sha512)\n",
    "\n",
    "    sk = exp[:32] # Encryption Key\n",
    "    ak = exp[32:64] # Authentication Key\n",
    "    iv = exp[64:] # Initialization vector\n",
    "\n",
    "    # Construct an AES-128-GCM Cipher object with the generated encryption key and IV.\n",
    "    encryptor = Cipher(\n",
    "            algorithms.AES(key=sk),\n",
    "            modes.GCM(initialization_vector=iv),\n",
    "            backend=default_backend()\n",
    "        ).encryptor()\n",
    "\n",
    "    padder = padding.PKCS7(128).padder()\n",
    "    padder_data = padder.update(plaintext) + padder.finalize()\n",
    "    ciphertext = encryptor.update(padder_data) + encryptor.finalize()\n",
    "    tag = encryptor.tag # Tag is always 16B long.\n",
    "\n",
    "    # HMAC for authentication of the associate it data.\n",
    "    ad = hmac.new(key=ak, msg=assotiate_data, digestmod=hashlib.sha512).digest() # 512b = 64B\n",
    "\n",
    "    return tag + ad + ciphertext\n",
    "\n",
    "enc_msg = ENCRYPT(mk=mk,plaintext=b\"hola\",assotiate_data=b\"hola\")\n",
    "print(enc_msg)\n",
    "print(len(enc_msg))"
   ]
  },
  {
   "cell_type": "markdown",
   "metadata": {},
   "source": [
    "### HEADER"
   ]
  },
  {
   "cell_type": "code",
   "execution_count": 22,
   "metadata": {},
   "outputs": [
    {
     "name": "stdout",
     "output_type": "stream",
     "text": [
      "b'\\x93\\xea\\xf5\\x1c\\xdf1.\\x99.\\xf8?\\xc1\\xcc\\xe5(K\\xef\\xc2\\xc2\\x08m\\xc70P\\x07\\xd8\\xec-\\x99X\\xa6-\\x04\\x03'\n",
      "<__main__.HEADER object at 0x7f6d8df82c50>\n"
     ]
    }
   ],
   "source": [
    "from cryptography.hazmat.primitives.asymmetric.x25519 import X25519PublicKey\n",
    "\n",
    "class HEADER:\n",
    "    def __init__(self, dh_pair=None, pn: int = 0, n: int = 0) -> None:\n",
    "        if dh_pair is not None:\n",
    "            self.dh = dh_pair.dh_pub\n",
    "            self.pn = pn\n",
    "            self.n = n\n",
    "\n",
    "    def to_bytes(self):\n",
    "        dh_pub_b = self.dh.public_bytes(encoding=serialization.Encoding.Raw, format=serialization.PublicFormat.Raw) # 32 B\n",
    "        pn_b = self.pn.to_bytes(1, byteorder='big') # 1 B\n",
    "        n_b = self.n.to_bytes(1, byteorder='big') # 1 B\n",
    "\n",
    "        return dh_pub_b + pn_b + n_b \n",
    "    \n",
    "    def to_object(self, header_bytes: [bytes]*34):\n",
    "        self.dh = X25519PublicKey.from_public_bytes(data=header_bytes[:32])\n",
    "        self.pn = int.from_bytes(header_bytes[32:33], byteorder='big')\n",
    "        self.n = int.from_bytes(header_bytes[33:34], byteorder='big')\n",
    "\n",
    "header = HEADER(dh_pair=dh_pair, pn=4, n=3)\n",
    "print(header.to_bytes())\n",
    "print(header)"
   ]
  },
  {
   "cell_type": "code",
   "execution_count": 23,
   "metadata": {},
   "outputs": [],
   "source": [
    "\n",
    "\n",
    "#dh_pub = X25519PublicKey.from_public_bytes(data=header[:32])"
   ]
  },
  {
   "cell_type": "markdown",
   "metadata": {},
   "source": [
    "### CONCAT"
   ]
  },
  {
   "cell_type": "code",
   "execution_count": 24,
   "metadata": {},
   "outputs": [
    {
     "name": "stdout",
     "output_type": "stream",
     "text": [
      "32\n",
      "b'\\xe63\\xf4\\xfcy\\xba\\xde\\xa1\\xdc]\\xb9p\\xcf9|\\x82H\\xba\\xc4|\\xc3\\xac\\xf9\\x91[\\xa6\\x0b]v\\xb0\\xe8\\x8f\\x93\\xea\\xf5\\x1c\\xdf1.\\x99.\\xf8?\\xc1\\xcc\\xe5(K\\xef\\xc2\\xc2\\x08m\\xc70P\\x07\\xd8\\xec-\\x99X\\xa6-\\x04\\x03'\n",
      "<class '__main__.HEADER'>\n"
     ]
    },
    {
     "data": {
      "text/plain": [
       "3"
      ]
     },
     "execution_count": 24,
     "metadata": {},
     "output_type": "execute_result"
    }
   ],
   "source": [
    "def CONCAT(ad: bytes, header: HEADER):\n",
    "    return ad + header.to_bytes()\n",
    "\n",
    "ad = b\"Hola\"\n",
    "ad = hashlib.sha256(ad).digest()\n",
    "print(len(ad))\n",
    "concat = CONCAT(ad=ad, header=header)\n",
    "print(concat)\n",
    "h2 = HEADER()\n",
    "print(type(h2))\n",
    "h2.to_object(header_bytes=concat[32:])\n",
    "h2.n"
   ]
  },
  {
   "cell_type": "markdown",
   "metadata": {},
   "source": [
    "### MESSAGE TO SEND"
   ]
  },
  {
   "cell_type": "code",
   "execution_count": 25,
   "metadata": {},
   "outputs": [
    {
     "data": {
      "text/plain": [
       "(<__main__.HEADER at 0x7f6d8df828f0>,\n",
       " b'\\xfeCq\\xbc\\x06\\xc8\\x05\\x94\\xb2\\xc9\\xd9\\x1c\\xe9\\xa9%H\\xefh\"\\x9c1\\xd0\\x93\\xe6\\xcfR\\xe5+!\\xe1\\xe0\\xbc7\\xebZ\\xadNl\\x85\\xc0{s\\x83\\xf4\\xf40F,J\\xefI\\x19?`{\\xd0\\xc9Jth4\\n\\xdeb\\t\\xc9\\x83x\\xdd\\xa8\\xa7\\xecD\\xba\\x85\\x18&6\\xa3\\xd1\\x08\\xf8\\x16\\xfe\\xdf\\xa6\\xddV$i\\t\\x0ff~\\xb3F')"
      ]
     },
     "execution_count": 25,
     "metadata": {},
     "output_type": "execute_result"
    }
   ],
   "source": [
    "header = HEADER(dh_pair=dh_pair,pn=0,n=0)#34B\n",
    "ad = b\"Associate data\"\n",
    "ad = hashlib.sha256(ad).digest()#32B\n",
    "enc_msg = ENCRYPT(mk=mk, plaintext=b\"Hola mundo!\",assotiate_data=CONCAT(ad, header=header))\n",
    "header, enc_msg"
   ]
  },
  {
   "cell_type": "markdown",
   "metadata": {},
   "source": [
    "### DECRYPT"
   ]
  },
  {
   "cell_type": "code",
   "execution_count": 26,
   "metadata": {},
   "outputs": [
    {
     "data": {
      "text/plain": [
       "b'Hola mundo!'"
      ]
     },
     "execution_count": 26,
     "metadata": {},
     "output_type": "execute_result"
    }
   ],
   "source": [
    "def DECRYPT(mk, ciphertext, assotiate_data):\n",
    "    tag = ciphertext[:16]\n",
    "    ad_original = ciphertext[16:16+64]\n",
    "    ciphertext = ciphertext[16+64:]\n",
    "\n",
    "    # Key Derivation Function\n",
    "    output_length = 80\n",
    "    prk = hkdf_extract(salt=bytes(output_length), input_key_material=mk, hash=hashlib.sha512)\n",
    "    exp = hkdf_expand(pseudo_random_key=prk, info=b\"Info ENCRYPT/DECRYPT\", length=output_length, hash=hashlib.sha512)\n",
    "\n",
    "    sk = exp[:32] # Encryption Key\n",
    "    ak = exp[32:64] # Authentication Key\n",
    "    iv = exp[64:] # Initialization vector\n",
    "\n",
    "    decryptor = Cipher(\n",
    "        algorithms.AES(key=sk),\n",
    "        modes.GCM(initialization_vector=iv, tag=tag),\n",
    "        backend=default_backend()\n",
    "    ).decryptor()\n",
    "\n",
    "    # Decryption and unpadding.\n",
    "    plaintext = decryptor.update(ciphertext) + decryptor.finalize()\n",
    "    unpadder = padding.PKCS7(128).unpadder()\n",
    "    plaintext = unpadder.update(plaintext) + unpadder.finalize()\n",
    "\n",
    "    # HMAC for authentication of the associate it data.\n",
    "    ad = hmac.new(key=ak, msg=assotiate_data, digestmod=hashlib.sha512).digest() # 512b = 64B\n",
    "\n",
    "    if ad != ad_original:\n",
    "        raise Exception(\"Error authenticating data.\")\n",
    "    \n",
    "    return plaintext\n",
    "\n",
    "DECRYPT(mk=mk, ciphertext=enc_msg, assotiate_data=CONCAT(ad=ad, header=header))"
   ]
  },
  {
   "cell_type": "markdown",
   "metadata": {},
   "source": [
    "### THREADS"
   ]
  },
  {
   "cell_type": "code",
   "execution_count": 27,
   "metadata": {},
   "outputs": [
    {
     "name": "stdout",
     "output_type": "stream",
     "text": [
      "adios\n"
     ]
    }
   ],
   "source": [
    "from threading import Thread\n",
    "\n",
    "class Hola:\n",
    "    def __init__(self) -> None:\n",
    "        self.hola = \"hola\"\n",
    "h = Hola()\n",
    "\n",
    "def say_hola(h3):\n",
    "    print(h3.hola)\n",
    "\n",
    "h2 = Hola()\n",
    "h2.hola = \"adios\"\n",
    "t_publisher = Thread(target=say_hola, args=(h2,))\n",
    "t_publisher.start()"
   ]
  },
  {
   "cell_type": "code",
   "execution_count": 28,
   "metadata": {},
   "outputs": [],
   "source": [
    "import paho.mqtt.client as mqtt\n",
    "from threading import Thread\n",
    "\n",
    "# MQTT broker address and port\n",
    "mqttBroker = '18.101.47.122'\n",
    "password = 'HkxNtvLB3GC5GQRUWfsA'\n",
    "mqtt_id = 'sinf'\n",
    "port = 1883\n",
    "\n",
    "def publisher():\n",
    "    client = mqtt.Client()\n",
    "    client.username_pw_set(username=mqtt_id, password=password)\n",
    "    client.connect(mqttBroker)\n",
    "\n",
    "    while True:\n",
    "        m = input(\"\\nMensaje: \")\n",
    "        client.publish(m, \"mqtt.in\")\n",
    "        print(\"\\nJust published \" + m + \" to topic.\")\n",
    "\n",
    "def on_message(client, userdata, message):\n",
    "    print(message.payload())\n",
    "\n",
    "def subscriber():\n",
    "    client = mqtt.Client()\n",
    "    client.username_pw_set(username=mqtt_id, password=password)\n",
    "    client.connect(mqttBroker)\n",
    "\n",
    "    client.subscribe(\"mqtt.in\")\n",
    "    client.on_message = on_message\n",
    "    client.loop_forever()\n",
    "\n",
    "t_publisher = Thread(target=publisher)\n",
    "t_subscriber = Thread(target=subscriber)\n",
    "t_publisher.start()\n",
    "t_subscriber.start()"
   ]
  },
  {
   "cell_type": "code",
   "execution_count": 29,
   "metadata": {},
   "outputs": [
    {
     "name": "stdout",
     "output_type": "stream",
     "text": [
      "hola\n"
     ]
    },
    {
     "data": {
      "text/plain": [
       "b'hola'"
      ]
     },
     "execution_count": 29,
     "metadata": {},
     "output_type": "execute_result"
    }
   ],
   "source": [
    "a = b\"hola\"\n",
    "print(a.decode())\n",
    "a = \"hola\"\n",
    "a.encode()"
   ]
  },
  {
   "cell_type": "code",
   "execution_count": 30,
   "metadata": {},
   "outputs": [
    {
     "name": "stdout",
     "output_type": "stream",
     "text": [
      "hi\n"
     ]
    },
    {
     "ename": "TypeError",
     "evalue": "hola.b() takes 2 positional arguments but 3 were given",
     "output_type": "error",
     "traceback": [
      "\u001b[0;31m---------------------------------------------------------------------------\u001b[0m",
      "\u001b[0;31mTypeError\u001b[0m                                 Traceback (most recent call last)",
      "Cell \u001b[0;32mIn[30], line 13\u001b[0m\n\u001b[1;32m     10\u001b[0m         \u001b[38;5;28mprint\u001b[39m(b)\n\u001b[1;32m     12\u001b[0m h \u001b[38;5;241m=\u001b[39m hola()\n\u001b[0;32m---> 13\u001b[0m \u001b[43mh\u001b[49m\u001b[38;5;241;43m.\u001b[39;49m\u001b[43ma\u001b[49m\u001b[43m(\u001b[49m\u001b[38;5;124;43m\"\u001b[39;49m\u001b[38;5;124;43mhi\u001b[39;49m\u001b[38;5;124;43m\"\u001b[39;49m\u001b[43m)\u001b[49m\n",
      "Cell \u001b[0;32mIn[30], line 7\u001b[0m, in \u001b[0;36mhola.a\u001b[0;34m(self, a)\u001b[0m\n\u001b[1;32m      5\u001b[0m \u001b[38;5;28;01mdef\u001b[39;00m \u001b[38;5;21ma\u001b[39m(\u001b[38;5;28mself\u001b[39m, a):\n\u001b[1;32m      6\u001b[0m     \u001b[38;5;28mprint\u001b[39m(a)\n\u001b[0;32m----> 7\u001b[0m     \u001b[38;5;28;43mself\u001b[39;49m\u001b[38;5;241;43m.\u001b[39;49m\u001b[43mb\u001b[49m\u001b[43m(\u001b[49m\u001b[38;5;28;43mself\u001b[39;49m\u001b[43m,\u001b[49m\u001b[38;5;124;43m\"\u001b[39;49m\u001b[38;5;124;43madios\u001b[39;49m\u001b[38;5;124;43m\"\u001b[39;49m\u001b[43m)\u001b[49m\n",
      "\u001b[0;31mTypeError\u001b[0m: hola.b() takes 2 positional arguments but 3 were given"
     ]
    },
    {
     "name": "stderr",
     "output_type": "stream",
     "text": [
      "Exception in thread Thread-5 (publisher):\n",
      "Traceback (most recent call last):\n",
      "  File \"/home/pedro/anaconda3/envs/munics/lib/python3.10/threading.py\", line 1016, in _bootstrap_inner\n",
      "    self.run()\n",
      "  File \"/home/pedro/anaconda3/envs/munics/lib/python3.10/threading.py\", line 953, in run\n",
      "    self._target(*self._args, **self._kwargs)\n",
      "  File \"/tmp/ipykernel_6445/3826392129.py\", line 17, in publisher\n",
      "  File \"/home/pedro/anaconda3/envs/munics/lib/python3.10/site-packages/paho/mqtt/client.py\", line 1228, in publish\n",
      "    raise ValueError('Invalid topic.')\n",
      "ValueError: Invalid topic.\n"
     ]
    }
   ],
   "source": [
    "class hola:\n",
    "    def __init__(self) -> None:\n",
    "        return\n",
    "    \n",
    "    def a(self, a):\n",
    "        print(a)\n",
    "        self.b(self,\"adios\")\n",
    "\n",
    "    def b(self, b):\n",
    "        print(b)\n",
    "\n",
    "h = hola()\n",
    "h.a(\"hi\")"
   ]
  },
  {
   "cell_type": "code",
   "execution_count": null,
   "metadata": {},
   "outputs": [],
   "source": [
    "sk: b'\\x16\\xd7\\xc5\\x0c\\xb2\\xe8\\xc4\\x02\\xae\\xb7{}fE\\x98\\x06\\n\\x88\\xf9XU\\xed.@\\xb6RV\\x13F\\xc0\\xf0\\xac'\n",
    "ak: b'1\\xde7\\xa8Hy\" \\xc00\\xf7\\xaen\\x8d\\xfeG\\xadE\\xa2\\xcc\\xecoG\\x8e\\x7f\\x98\\xf7c\\x0f\\xd6e\\xab'\n",
    "iv: b'\\x95\\xf3\\xfa\\x9b\\xa2\\xac#kTy\\\\\\x98\\x8f6\\xbc\\xf5'\n",
    "\n",
    "sk: b'.[\\x16E]w=\\xd0\\xe4Tyi$>v\\x9d\\x1e\\xc9\\x19\\xd3mj\\xee1\\x9bbF$\\x9d\\xb5\"G'\n",
    "ak: b'h\\x90\\xec\\xa1\"\\x1d\\x86\\t\\x0e9\\x13\\xfb\\x07\\xd8q\\x02e\\xf7l\\xb5\\x07mC?s+8?\\xf8\\xffI\\xf1'\n",
    "iv: b\"~\\xcbR)\\x86\\x92\\n\\x99\\n#'\\xab\\x85b\\xf4\\x8e\""
   ]
  }
 ],
 "metadata": {
  "kernelspec": {
   "display_name": "munics",
   "language": "python",
   "name": "python3"
  },
  "language_info": {
   "codemirror_mode": {
    "name": "ipython",
    "version": 3
   },
   "file_extension": ".py",
   "mimetype": "text/x-python",
   "name": "python",
   "nbconvert_exporter": "python",
   "pygments_lexer": "ipython3",
   "version": "3.10.12"
  }
 },
 "nbformat": 4,
 "nbformat_minor": 2
}
