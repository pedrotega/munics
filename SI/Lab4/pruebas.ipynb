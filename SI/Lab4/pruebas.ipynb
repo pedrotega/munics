{
 "cells": [
  {
   "cell_type": "markdown",
   "metadata": {},
   "source": [
    "### GENERATE_DH"
   ]
  },
  {
   "cell_type": "code",
   "execution_count": 15,
   "metadata": {},
   "outputs": [
    {
     "name": "stdout",
     "output_type": "stream",
     "text": [
      "Private key: b\"\\xc8\\x83\\xc4\\xaa\\x96\\xa3(\\xccm\\x8c\\x10\\x85\\xb9\\x1b4d\\x0b\\xb9\\xfe'\\nsAK\\x8e(5\\xdb\\xa0\\x99\\x81b\"\n",
      "Length Private key: 32\n",
      "\n",
      "Public key: b'\\x8b\\xc7\\x93\\xff\\x04\\xfa.\\xc8\\xa3?\\xb6\\xc0}\\\\\\x87\\xd0,DKW\\x9d\\x9b /;\\x1c\\xd7\\x832\\x1dfK'\n",
      "Length Public key: 32\n"
     ]
    }
   ],
   "source": [
    "from cryptography.hazmat.primitives.asymmetric.x25519 import X25519PrivateKey\n",
    "from cryptography.hazmat.primitives import serialization\n",
    "\n",
    "class DH_pair:\n",
    "    def __init__(self, dh_priv, dh_pub) -> None:\n",
    "        self.dh_priv = dh_priv\n",
    "        self.dh_pub = dh_pub\n",
    "\n",
    "def GENERATE_DH():\n",
    "    # Generate a new DH pair key.\n",
    "    dh_priv = X25519PrivateKey.generate()\n",
    "    dh_pub = dh_priv.public_key()\n",
    "    \n",
    "    return DH_pair(dh_priv, dh_pub)\n",
    "\n",
    "dh_pair = GENERATE_DH()\n",
    "dh_pair2 = GENERATE_DH()\n",
    "\n",
    "print(\"Private key:\", dh_pair.dh_priv.private_bytes(encoding=serialization.Encoding.Raw, format=serialization.PrivateFormat.Raw, encryption_algorithm=serialization.NoEncryption()))\n",
    "print(\"Length Private key:\", len(dh_pair.dh_priv.private_bytes(encoding=serialization.Encoding.Raw, format=serialization.PrivateFormat.Raw, encryption_algorithm=serialization.NoEncryption())))\n",
    "print()\n",
    "print(\"Public key:\", dh_pair.dh_pub.public_bytes(encoding=serialization.Encoding.Raw, format=serialization.PublicFormat.Raw))\n",
    "print(\"Length Public key:\", len(dh_pair.dh_pub.public_bytes(encoding=serialization.Encoding.Raw, format=serialization.PublicFormat.Raw)))\n"
   ]
  },
  {
   "cell_type": "markdown",
   "metadata": {},
   "source": [
    "### DH"
   ]
  },
  {
   "cell_type": "code",
   "execution_count": 11,
   "metadata": {},
   "outputs": [
    {
     "name": "stdout",
     "output_type": "stream",
     "text": [
      "Shared secret 1: b'y\\xec\\xec\\x0b\\xf4\\xea\\xc1\\xbc\\xa0\\x12[\\x94eJ\\x8a~\\xc3\\x92\\xa5\\xf5\\xe9\\xfd\\xff\\xc6\\xb72\\xc1K\\xbbk\\x9b\\x0e'\n",
      "Shared secret 2: b'y\\xec\\xec\\x0b\\xf4\\xea\\xc1\\xbc\\xa0\\x12[\\x94eJ\\x8a~\\xc3\\x92\\xa5\\xf5\\xe9\\xfd\\xff\\xc6\\xb72\\xc1K\\xbbk\\x9b\\x0e'\n"
     ]
    }
   ],
   "source": [
    "def DH(dh_pair: DH_pair, dh_pub):\n",
    "    # Perform DH calculation between private key and public key\n",
    "    return dh_pair.dh_priv.exchange(dh_pub)\n",
    "\n",
    "# Calcular la clave compartida usando la función DH()\n",
    "dh_out = DH(dh_pair=dh_pair, dh_pub=dh_pair2.dh_pub)\n",
    "dh_out2 = DH(dh_pair=dh_pair2, dh_pub=dh_pair.dh_pub)\n",
    "print(\"Shared secret 1:\", dh_out)\n",
    "print(\"Shared secret 2:\", dh_out2)"
   ]
  },
  {
   "cell_type": "markdown",
   "metadata": {},
   "source": [
    "### KDF_RK"
   ]
  },
  {
   "cell_type": "code",
   "execution_count": 12,
   "metadata": {},
   "outputs": [
    {
     "name": "stdout",
     "output_type": "stream",
     "text": [
      "Random 32 bytes: b'\\\\\\x0e\\xef\\x9f\\x05\\x85\\xe8H\\xd6&\\xb8\\x93\\xe0\\xeb\\x1awP\\xe5\\x8c\\x08\\x86\\xa3\\xbf\\x99\\xa4\\xfe\\xfa\\x14\\x13\"\\x88\\xfc'\n"
     ]
    }
   ],
   "source": [
    "import secrets\n",
    "\n",
    "rk = secrets.token_bytes(32)\n",
    "print(\"Random\",len(rk),\"bytes:\", rk)"
   ]
  },
  {
   "cell_type": "code",
   "execution_count": 13,
   "metadata": {},
   "outputs": [
    {
     "name": "stdout",
     "output_type": "stream",
     "text": [
      "Root Key: b'\\x84\\xb0\\xf3W\\x9bi{?e\\xb5\\xf5\\x1dV<\\xa2\\xcfD\\x98(\\xdc-\\xec\\\\\\x82\\xf2\\x1d\\x18+\\x17\\x9f\\x11\\xa0'\n",
      "Length Root Key: 32 \n",
      "\n",
      "Chain Key: b'/\\xa1-\\xb3\\\\\\xbd(\\xee\\xa7\\xd1\\x0c\\x0eW\\xdf\\x80\\xf3\\xf8,\\xd9\\x0f\\xa6\\xeaC\\xa2~d},l8.\\xa8'\n",
      "Length Chain Key: 32\n"
     ]
    }
   ],
   "source": [
    "from hkdf import hkdf_expand, hkdf_extract\n",
    "from binascii import unhexlify\n",
    "import hashlib\n",
    "\n",
    "def KDF_RK(rk: bytes, dh_out: bytes) -> [[bytes]*32, [bytes]*32]:\n",
    "    prk = hkdf_extract(salt=rk, input_key_material=dh_out, hash=hashlib.sha512)\n",
    "    key = hkdf_expand(pseudo_random_key=prk, info=b\"Info KDF_RK\", length=64, hash=hashlib.sha512)\n",
    "\n",
    "    return key[:32],key[32:] # Root Key, Chain Key\n",
    "\n",
    "rk, ck = KDF_RK(rk=rk, dh_out=dh_out)\n",
    "print(\"Root Key:\", rk)\n",
    "print(\"Length Root Key:\", len(rk), \"\\n\")\n",
    "print(\"Chain Key:\", ck)\n",
    "print(\"Length Chain Key:\", len(ck))"
   ]
  },
  {
   "cell_type": "markdown",
   "metadata": {},
   "source": [
    "### KDF_CK"
   ]
  },
  {
   "cell_type": "code",
   "execution_count": 14,
   "metadata": {},
   "outputs": [
    {
     "name": "stdout",
     "output_type": "stream",
     "text": [
      "Chain Key: b'\\x96z\\x15!\\x1a\\xc2i\\x16\\x91\\xc9n\\x0c\\xf5q)\\x88\\xeej\\xd9\\xe9\\xe3\\x01\\xda\\xd12\\xdf;\\xf2\\xbc\\x02\\xba\\xf1'\n",
      "Length Chain Key: 32\n",
      "\n",
      "Message Key: b'\\xcd\\xbc\\xe4\\xf8\\xaf\\xc2\\x04\\x9f\\x7f\\x06AL\\xb2\"\\xef\\xf3H\\xdb^\\xa9\"\\x8c\\x96\\x93\\xb0h\\x08W*c?\"'\n",
      "Length Message Key: 32\n"
     ]
    }
   ],
   "source": [
    "import hmac\n",
    "\n",
    "def KDF_CK(ck: bytes) -> [[bytes]*32, [bytes]*32]:\n",
    "    new_ck = hmac.new(key=ck, msg=b'Chain Key', digestmod=hashlib.sha512)\n",
    "    mk = hmac.new(key=ck, msg=b'Message Key', digestmod=hashlib.sha512)\n",
    "\n",
    "    return new_ck.digest()[:32], mk.digest()[:32] # Chain Key, Message Key\n",
    "\n",
    "\n",
    "ck, mk = KDF_CK(ck=ck)\n",
    "\n",
    "print(\"Chain Key:\",ck)\n",
    "print(\"Length Chain Key:\",len(ck))\n",
    "print()\n",
    "print(\"Message Key:\",mk)\n",
    "print(\"Length Message Key:\",len(mk))\n"
   ]
  },
  {
   "cell_type": "markdown",
   "metadata": {},
   "source": [
    "### ENCRYPT"
   ]
  },
  {
   "cell_type": "code",
   "execution_count": 77,
   "metadata": {},
   "outputs": [
    {
     "name": "stdout",
     "output_type": "stream",
     "text": [
      "64\n"
     ]
    }
   ],
   "source": [
    "from cryptography.hazmat.backends import default_backend\n",
    "from cryptography.hazmat.primitives.ciphers.aead import AESGCM\n",
    "from cryptography.hazmat.primitives import hashes\n",
    "from cryptography.hazmat.primitives import padding  # - Import to use the padding.\n",
    "from cryptography.hazmat.primitives.ciphers import (\n",
    "    Cipher, algorithms, modes\n",
    ")\n",
    "\n",
    "def ENCRYPT(mk: bytes, plaintext: bytes, assotiate_data: bytes):\n",
    "    # Key Derivation Function\n",
    "    output_length = 80\n",
    "    prk = hkdf_extract(salt=bytes(output_length), input_key_material=mk, hash=hashlib.sha512)\n",
    "    exp = hkdf_expand(pseudo_random_key=prk, info=b\"Info ENCRYPT\", length=output_length, hash=hashlib.sha512)\n",
    "\n",
    "    ek = exp[:32] # Encryption Key\n",
    "    ak = exp[32:64] # Authentication Key\n",
    "    iv = exp[64:] # Initialization vector\n",
    "\n",
    "    # Construct an AES-128-GCM Cipher object with the generated encryption key and IV.\n",
    "    encryptor = Cipher(\n",
    "            algorithms.AES(key=ek),\n",
    "            modes.GCM(initialization_vector=iv),\n",
    "            backend=default_backend()\n",
    "        ).encryptor()\n",
    "\n",
    "    padder = padding.PKCS7(128).padder()\n",
    "    padder_data = padder.update(plaintext) + padder.finalize()\n",
    "    ciphertext = encryptor.update(padder_data) + encryptor.finalize()\n",
    "    tag = encryptor.tag # Tag is always 16B long.\n",
    "\n",
    "    # HMAC for authentication of the associate it data.\n",
    "    ad = hmac.new(key=ak, msg=assotiate_data, digestmod=hashlib.sha512).digest() # 512b = 64B\n",
    "    print(len(ad))\n",
    "    \n",
    "    return tag + ad + ciphertext\n",
    "\n",
    "enc_msg = ENCRYPT(mk=mk,plaintext=b\"hola\",assotiate_data=b\"hola\")"
   ]
  },
  {
   "cell_type": "markdown",
   "metadata": {},
   "source": [
    "### HEADER"
   ]
  },
  {
   "cell_type": "code",
   "execution_count": 19,
   "metadata": {},
   "outputs": [
    {
     "name": "stdout",
     "output_type": "stream",
     "text": [
      "<__main__.HEADER object at 0x7f756c37a5f0>\n"
     ]
    }
   ],
   "source": [
    "from cryptography.hazmat.primitives.asymmetric.x25519 import X25519PublicKey\n",
    "\n",
    "class HEADER:\n",
    "    def __init__(self, dh_pair=None, pn: int = 0, n: int = 0) -> None:\n",
    "        if dh_pair is not None:\n",
    "            self.dh = dh_pair.dh_pub\n",
    "            self.pn = pn\n",
    "            self.n = n\n",
    "\n",
    "    def to_bytes(self):\n",
    "        dh_pub_b = self.dh.public_bytes(encoding=serialization.Encoding.Raw, format=serialization.PublicFormat.Raw) # 32 B\n",
    "        pn_b = self.pn.to_bytes(1, byteorder='big') # 1 B\n",
    "        n_b = self.n.to_bytes(1, byteorder='big') # 1 B\n",
    "\n",
    "        return dh_pub_b + pn_b + n_b \n",
    "    \n",
    "    def to_object(self, header_bytes: [bytes]*34):\n",
    "        self.dh = X25519PublicKey.from_public_bytes(data=header_bytes[:32])\n",
    "        self.pn = int.from_bytes(header_bytes[32:33], byteorder='big')\n",
    "        self.n = int.from_bytes(header_bytes[33:34], byteorder='big')\n",
    "\n",
    "header = HEADER(dh_pair=dh_pair, pn=4, n=3)\n",
    "print(header)"
   ]
  },
  {
   "cell_type": "code",
   "execution_count": 101,
   "metadata": {},
   "outputs": [],
   "source": [
    "\n",
    "\n",
    "dh_pub = X25519PublicKey.from_public_bytes(data=header[:32])"
   ]
  },
  {
   "cell_type": "markdown",
   "metadata": {},
   "source": [
    "### CONCAT"
   ]
  },
  {
   "cell_type": "code",
   "execution_count": 23,
   "metadata": {},
   "outputs": [
    {
     "name": "stdout",
     "output_type": "stream",
     "text": [
      "b'hola\\x8b\\xc7\\x93\\xff\\x04\\xfa.\\xc8\\xa3?\\xb6\\xc0}\\\\\\x87\\xd0,DKW\\x9d\\x9b /;\\x1c\\xd7\\x832\\x1dfK\\x04\\x03'\n"
     ]
    }
   ],
   "source": [
    "def CONCAT(ad: bytes, header: HEADER):\n",
    "    return ad + header.to_bytes()\n",
    "\n",
    "concat = CONCAT(ad=b\"hola\", header=header)\n",
    "print(concat)\n",
    "h2 = HEADER()\n",
    "h2 = h2.to_object(header_bytes=concat())"
   ]
  },
  {
   "cell_type": "markdown",
   "metadata": {},
   "source": [
    "### MESSAGE TO SEND"
   ]
  },
  {
   "cell_type": "code",
   "execution_count": null,
   "metadata": {},
   "outputs": [],
   "source": [
    "header = HEADER"
   ]
  },
  {
   "cell_type": "markdown",
   "metadata": {},
   "source": [
    "### DECRYPT"
   ]
  },
  {
   "cell_type": "code",
   "execution_count": 18,
   "metadata": {},
   "outputs": [
    {
     "name": "stdout",
     "output_type": "stream",
     "text": [
      "b'\\x02'\n",
      "<class 'bytes'>\n",
      "2\n",
      "<class 'int'>\n"
     ]
    }
   ],
   "source": [
    "a = 2\n",
    "a = a.to_bytes(1, byteorder='big')\n",
    "print(a)\n",
    "print(type(a))\n",
    "a = int.from_bytes(a, byteorder='big')\n",
    "print(a)\n",
    "print(type(a))"
   ]
  },
  {
   "cell_type": "code",
   "execution_count": 26,
   "metadata": {},
   "outputs": [
    {
     "data": {
      "text/plain": [
       "32"
      ]
     },
     "execution_count": 26,
     "metadata": {},
     "output_type": "execute_result"
    }
   ],
   "source": [
    "len(hashlib.sha256(b'hola').digest())"
   ]
  },
  {
   "cell_type": "code",
   "execution_count": null,
   "metadata": {},
   "outputs": [],
   "source": []
  }
 ],
 "metadata": {
  "kernelspec": {
   "display_name": "munics",
   "language": "python",
   "name": "python3"
  },
  "language_info": {
   "codemirror_mode": {
    "name": "ipython",
    "version": 3
   },
   "file_extension": ".py",
   "mimetype": "text/x-python",
   "name": "python",
   "nbconvert_exporter": "python",
   "pygments_lexer": "ipython3",
   "version": "3.10.12"
  }
 },
 "nbformat": 4,
 "nbformat_minor": 2
}
