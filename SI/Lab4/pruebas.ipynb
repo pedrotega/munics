{
 "cells": [
  {
   "cell_type": "markdown",
   "metadata": {},
   "source": [
    "### GENERATE_DH"
   ]
  },
  {
   "cell_type": "code",
   "execution_count": 1,
   "metadata": {},
   "outputs": [
    {
     "name": "stdout",
     "output_type": "stream",
     "text": [
      "Private key: b\"\\xb8\\xa8\\xdc*\\xb4\\xce\\x9d\\x01\\xa0\\x83\\xb6\\x1da\\x1c\\x9a\\x03\\xa80'\\xf1k\\xfd\\xe7\\x8a\\xae\\x9e(\\x85\\xf5\\x15\\xb6\\x7f\"\n",
      "Length Private key: 32\n",
      "\n",
      "Public key: b')\\x02\\xd7\\xa7F\\xff\\xdd\\x1c\\xac\\xcfL\\xe7\\xd7V\\x06\\xc9\\xbe4\\xbe)<\\xc92\\xd00\\x9b\\xb8\\tz\\xb1\\xd3g'\n",
      "Length Public key: 32\n"
     ]
    }
   ],
   "source": [
    "from cryptography.hazmat.primitives.asymmetric.x25519 import X25519PrivateKey\n",
    "from cryptography.hazmat.primitives import serialization\n",
    "\n",
    "class DH_pair:\n",
    "    def __init__(self, dh_priv, dh_pub) -> None:\n",
    "        self.dh_priv = dh_priv\n",
    "        self.dh_pub = dh_pub\n",
    "\n",
    "def GENERATE_DH():\n",
    "    # Generate a new DH pair key.\n",
    "    dh_priv = X25519PrivateKey.generate()\n",
    "    dh_pub = dh_priv.public_key()\n",
    "    \n",
    "    return DH_pair(dh_priv, dh_pub)\n",
    "\n",
    "dh_pair = GENERATE_DH()\n",
    "dh_pair2 = GENERATE_DH()\n",
    "\n",
    "print(\"Private key:\", dh_pair.dh_priv.private_bytes(encoding=serialization.Encoding.Raw, format=serialization.PrivateFormat.Raw, encryption_algorithm=serialization.NoEncryption()))\n",
    "print(\"Length Private key:\", len(dh_pair.dh_priv.private_bytes(encoding=serialization.Encoding.Raw, format=serialization.PrivateFormat.Raw, encryption_algorithm=serialization.NoEncryption())))\n",
    "print()\n",
    "print(\"Public key:\", dh_pair.dh_pub.public_bytes(encoding=serialization.Encoding.Raw, format=serialization.PublicFormat.Raw))\n",
    "print(\"Length Public key:\", len(dh_pair.dh_pub.public_bytes(encoding=serialization.Encoding.Raw, format=serialization.PublicFormat.Raw)))\n"
   ]
  },
  {
   "cell_type": "markdown",
   "metadata": {},
   "source": [
    "### DH"
   ]
  },
  {
   "cell_type": "code",
   "execution_count": 2,
   "metadata": {},
   "outputs": [
    {
     "name": "stdout",
     "output_type": "stream",
     "text": [
      "Shared secret 1: b'\\x84\\x16v\\t\\x95\\xd0\\x81\\xc5\\xfae\\x90b\\x88`\\xa9U\\x05\\x1b\\xc4\\xb5\\x83W\\xdaj\\x0b\\xf4%`9\\xf7\\rD'\n",
      "Shared secret 2: b'\\x84\\x16v\\t\\x95\\xd0\\x81\\xc5\\xfae\\x90b\\x88`\\xa9U\\x05\\x1b\\xc4\\xb5\\x83W\\xdaj\\x0b\\xf4%`9\\xf7\\rD'\n"
     ]
    }
   ],
   "source": [
    "def DH(dh_pair: DH_pair, dh_pub):\n",
    "    # Perform DH calculation between private key and public key\n",
    "    return dh_pair.dh_priv.exchange(dh_pub)\n",
    "\n",
    "# Calcular la clave compartida usando la función DH()\n",
    "dh_out = DH(dh_pair=dh_pair, dh_pub=dh_pair2.dh_pub)\n",
    "dh_out2 = DH(dh_pair=dh_pair2, dh_pub=dh_pair.dh_pub)\n",
    "print(\"Shared secret 1:\", dh_out)\n",
    "print(\"Shared secret 2:\", dh_out2)"
   ]
  },
  {
   "cell_type": "markdown",
   "metadata": {},
   "source": [
    "### KDF_RK"
   ]
  },
  {
   "cell_type": "code",
   "execution_count": 3,
   "metadata": {},
   "outputs": [
    {
     "name": "stdout",
     "output_type": "stream",
     "text": [
      "Random 32 bytes: b'\\xfbS!2\\xdf\\x99\\xdf3D9\\x9f\\xddz\\x87\\xf2\\xf6 \\xa0\\xda\\xc1\\xef`VC07\\xf4\\xd6|\\x0e\\x17\\x90'\n"
     ]
    }
   ],
   "source": [
    "import secrets\n",
    "\n",
    "rk = secrets.token_bytes(32)\n",
    "print(\"Random\",len(rk),\"bytes:\", rk)"
   ]
  },
  {
   "cell_type": "code",
   "execution_count": 6,
   "metadata": {},
   "outputs": [
    {
     "name": "stdout",
     "output_type": "stream",
     "text": [
      "Root Key: b'\\xdb[\\x9e\\x1a*\\xfb\\xf7\\x9epoF49\\xd5\\xda\\xdc\\xff\\x0e\\xa9\\x95\\x0ek\\x82FU{\\t\\x04KPB\\x08'\n",
      "Length Root Key: 32 \n",
      "\n",
      "Chain Key: b'D\\x02\\xf7\\x98\\xa3\\xbbV\\t\\xea\\x98a\\x1b3\\x03<t1\\x84\\x82<\\xe5\\xbc\\xdfa\\x16\\xf9\\xc9|\\x1aZUp'\n",
      "Length Chain Key: 32\n"
     ]
    }
   ],
   "source": [
    "from hkdf import hkdf_expand, hkdf_extract\n",
    "from binascii import unhexlify\n",
    "import hashlib\n",
    "\n",
    "def KDF_RK(rk: bytes, dh_out: bytes) -> [[bytes]*32, [bytes]*32]:\n",
    "    prk = hkdf_extract(salt=rk, input_key_material=dh_out, hash=hashlib.sha512)\n",
    "    key = hkdf_expand(pseudo_random_key=prk, info=b\"Info KDF_RK\", length=64, hash=hashlib.sha512)\n",
    "\n",
    "    return key[:32],key[32:] # Root Key, Chain Key\n",
    "\n",
    "rk, ck = KDF_RK(rk=rk, dh_out=dh_out)\n",
    "print(\"Root Key:\", rk)\n",
    "print(\"Length Root Key:\", len(rk), \"\\n\")\n",
    "print(\"Chain Key:\", ck)\n",
    "print(\"Length Chain Key:\", len(ck))"
   ]
  },
  {
   "cell_type": "markdown",
   "metadata": {},
   "source": [
    "### KDF_CK"
   ]
  },
  {
   "cell_type": "code",
   "execution_count": 7,
   "metadata": {},
   "outputs": [
    {
     "name": "stdout",
     "output_type": "stream",
     "text": [
      "Chain Key: b'CK!s.\\xcd\\xc6\\xbe\\xbd\\x84\\x9c\\xd7\\xd4\\x93\\xf9\\xa0$\\xd0\\x14_\\x06iX\\xac\\x81\\xfe>\\xf2#n\\x18]'\n",
      "Length Chain Key: 32\n",
      "\n",
      "Message Key: b'\\xec\\xf8\\x04%\\xac\\x1dT\\xc4\\xb7\\\\\\xf7p\\xf4\\xce\\xdb!\\xf6\\xad,\\xf0\\xb0\\x90\\x03$\\xaa\\xa4\\x80\\x82E\\xe82\\xd1'\n",
      "Length Message Key: 32\n"
     ]
    }
   ],
   "source": [
    "import hmac\n",
    "\n",
    "def KDF_CK(ck: bytes) -> [[bytes]*32, [bytes]*32]:\n",
    "    new_ck = hmac.new(key=ck, msg=b'Chain Key', digestmod=hashlib.sha512)\n",
    "    mk = hmac.new(key=ck, msg=b'Message Key', digestmod=hashlib.sha512)\n",
    "\n",
    "    return new_ck.digest()[:32], mk.digest()[:32] # Chain Key, Message Key\n",
    "\n",
    "\n",
    "ck, mk = KDF_CK(ck=ck)\n",
    "\n",
    "print(\"Chain Key:\",ck)\n",
    "print(\"Length Chain Key:\",len(ck))\n",
    "print()\n",
    "print(\"Message Key:\",mk)\n",
    "print(\"Length Message Key:\",len(mk))\n"
   ]
  },
  {
   "cell_type": "markdown",
   "metadata": {},
   "source": [
    "### ENCRYPT"
   ]
  },
  {
   "cell_type": "code",
   "execution_count": 31,
   "metadata": {},
   "outputs": [
    {
     "name": "stdout",
     "output_type": "stream",
     "text": [
      "b'D\\x8d\\x04h\\x86\\nJN.\\xff\\xd7\\xc03\\x97p\\xb29)\\xaa\\xd0\\xf2\\xa1a\\xcfX\\xbc\\xbc\\x12\\xa4\\xbbe\\\\\\x05\\xe2S\\xe7\\xc9\\xd47\\x94,<\\x982\\xedm^\\x0e5\\xb6\\xb3E;\\xcc\\xad\\xd9g:V\\xdd\\x0b\\x81C\\xce\\xa8\\xfb\\xe9\\xafP\\xc8\\xb6|&\\xd0[\\x18\\xf0pz\\xa5\\x0e\\xb1D\\x00\\x0f\\x90\\xaf\\x89<\\t\\xaa\\x02M\\xa2\\x7f3'\n",
      "96\n"
     ]
    }
   ],
   "source": [
    "from cryptography.hazmat.backends import default_backend\n",
    "from cryptography.hazmat.primitives.ciphers.aead import AESGCM\n",
    "from cryptography.hazmat.primitives import hashes\n",
    "from cryptography.hazmat.primitives import padding  # - Import to use the padding.\n",
    "from cryptography.hazmat.primitives.ciphers import (\n",
    "    Cipher, algorithms, modes\n",
    ")\n",
    "\n",
    "def ENCRYPT(mk: bytes, plaintext: bytes, assotiate_data: bytes):\n",
    "    # Key Derivation Function\n",
    "    output_length = 80\n",
    "    prk = hkdf_extract(salt=bytes(output_length), input_key_material=mk, hash=hashlib.sha512)\n",
    "    exp = hkdf_expand(pseudo_random_key=prk, info=b\"Info ENCRYPT/DECRYPT\", length=output_length, hash=hashlib.sha512)\n",
    "\n",
    "    sk = exp[:32] # Encryption Key\n",
    "    ak = exp[32:64] # Authentication Key\n",
    "    iv = exp[64:] # Initialization vector\n",
    "\n",
    "    # Construct an AES-128-GCM Cipher object with the generated encryption key and IV.\n",
    "    encryptor = Cipher(\n",
    "            algorithms.AES(key=sk),\n",
    "            modes.GCM(initialization_vector=iv),\n",
    "            backend=default_backend()\n",
    "        ).encryptor()\n",
    "\n",
    "    padder = padding.PKCS7(128).padder()\n",
    "    padder_data = padder.update(plaintext) + padder.finalize()\n",
    "    ciphertext = encryptor.update(padder_data) + encryptor.finalize()\n",
    "    tag = encryptor.tag # Tag is always 16B long.\n",
    "\n",
    "    # HMAC for authentication of the associate it data.\n",
    "    ad = hmac.new(key=ak, msg=assotiate_data, digestmod=hashlib.sha512).digest() # 512b = 64B\n",
    "\n",
    "    return tag + ad + ciphertext\n",
    "\n",
    "enc_msg = ENCRYPT(mk=mk,plaintext=b\"hola\",assotiate_data=b\"hola\")\n",
    "print(enc_msg)\n",
    "print(len(enc_msg))"
   ]
  },
  {
   "cell_type": "markdown",
   "metadata": {},
   "source": [
    "### HEADER"
   ]
  },
  {
   "cell_type": "code",
   "execution_count": 32,
   "metadata": {},
   "outputs": [
    {
     "name": "stdout",
     "output_type": "stream",
     "text": [
      "b')\\x02\\xd7\\xa7F\\xff\\xdd\\x1c\\xac\\xcfL\\xe7\\xd7V\\x06\\xc9\\xbe4\\xbe)<\\xc92\\xd00\\x9b\\xb8\\tz\\xb1\\xd3g\\x04\\x03'\n",
      "<__main__.HEADER object at 0x7f40dbc9a4d0>\n"
     ]
    }
   ],
   "source": [
    "from cryptography.hazmat.primitives.asymmetric.x25519 import X25519PublicKey\n",
    "\n",
    "class HEADER:\n",
    "    def __init__(self, dh_pair=None, pn: int = 0, n: int = 0) -> None:\n",
    "        if dh_pair is not None:\n",
    "            self.dh = dh_pair.dh_pub\n",
    "            self.pn = pn\n",
    "            self.n = n\n",
    "\n",
    "    def to_bytes(self):\n",
    "        dh_pub_b = self.dh.public_bytes(encoding=serialization.Encoding.Raw, format=serialization.PublicFormat.Raw) # 32 B\n",
    "        pn_b = self.pn.to_bytes(1, byteorder='big') # 1 B\n",
    "        n_b = self.n.to_bytes(1, byteorder='big') # 1 B\n",
    "\n",
    "        return dh_pub_b + pn_b + n_b \n",
    "    \n",
    "    def to_object(self, header_bytes: [bytes]*34):\n",
    "        self.dh = X25519PublicKey.from_public_bytes(data=header_bytes[:32])\n",
    "        self.pn = int.from_bytes(header_bytes[32:33], byteorder='big')\n",
    "        self.n = int.from_bytes(header_bytes[33:34], byteorder='big')\n",
    "\n",
    "header = HEADER(dh_pair=dh_pair, pn=4, n=3)\n",
    "print(header.to_bytes())\n",
    "print(header)"
   ]
  },
  {
   "cell_type": "code",
   "execution_count": 101,
   "metadata": {},
   "outputs": [],
   "source": [
    "\n",
    "\n",
    "dh_pub = X25519PublicKey.from_public_bytes(data=header[:32])"
   ]
  },
  {
   "cell_type": "markdown",
   "metadata": {},
   "source": [
    "### CONCAT"
   ]
  },
  {
   "cell_type": "code",
   "execution_count": 33,
   "metadata": {},
   "outputs": [
    {
     "name": "stdout",
     "output_type": "stream",
     "text": [
      "32\n",
      "b'\\xe63\\xf4\\xfcy\\xba\\xde\\xa1\\xdc]\\xb9p\\xcf9|\\x82H\\xba\\xc4|\\xc3\\xac\\xf9\\x91[\\xa6\\x0b]v\\xb0\\xe8\\x8f)\\x02\\xd7\\xa7F\\xff\\xdd\\x1c\\xac\\xcfL\\xe7\\xd7V\\x06\\xc9\\xbe4\\xbe)<\\xc92\\xd00\\x9b\\xb8\\tz\\xb1\\xd3g\\x04\\x03'\n",
      "<class '__main__.HEADER'>\n"
     ]
    },
    {
     "data": {
      "text/plain": [
       "3"
      ]
     },
     "execution_count": 33,
     "metadata": {},
     "output_type": "execute_result"
    }
   ],
   "source": [
    "def CONCAT(ad: bytes, header: HEADER):\n",
    "    return ad + header.to_bytes()\n",
    "\n",
    "ad = b\"Hola\"\n",
    "ad = hashlib.sha256(ad).digest()\n",
    "print(len(ad))\n",
    "concat = CONCAT(ad=ad, header=header)\n",
    "print(concat)\n",
    "h2 = HEADER()\n",
    "print(type(h2))\n",
    "h2.to_object(header_bytes=concat[32:])\n",
    "h2.n"
   ]
  },
  {
   "cell_type": "markdown",
   "metadata": {},
   "source": [
    "### MESSAGE TO SEND"
   ]
  },
  {
   "cell_type": "code",
   "execution_count": 34,
   "metadata": {},
   "outputs": [
    {
     "data": {
      "text/plain": [
       "(<__main__.HEADER at 0x7f40dbc8a290>,\n",
       " b'\\xd4h\\xfc\\xa4SX\\xb9\\xdbX0~Z\\x83r\\xbe\\xcehQ\\xceF[\\xa5k\\\\#\\x1c~\\x95\\xfb/!\\xb5\\xfb\\xb8\\x1c.K\\xdc\\xb4T\\xb8p\\xb4C\\x95\\x1c\\x16l\\xf8\\x87\\xf2\\x10u\\x13\\xf9\\xc1\\x9d\\x8a\\xaf\\rTe1\\xe5\\x8f\\xe2rK\\xdc\\xe4\\x01\\xec\\xc1\\xc0\\x7f|y\\xf6F .\\xb1D\\x00#\\xf1\\xd6\\xebTj\\x87\\x0bD\\xabv:')"
      ]
     },
     "execution_count": 34,
     "metadata": {},
     "output_type": "execute_result"
    }
   ],
   "source": [
    "header = HEADER(dh_pair=dh_pair,pn=0,n=0)#34B\n",
    "ad = b\"Associate data\"\n",
    "ad = hashlib.sha256(ad).digest()#32B\n",
    "enc_msg = ENCRYPT(mk=mk, plaintext=b\"Hola mundo!\",assotiate_data=CONCAT(ad, header=header))\n",
    "header, enc_msg"
   ]
  },
  {
   "cell_type": "markdown",
   "metadata": {},
   "source": [
    "### DECRYPT"
   ]
  },
  {
   "cell_type": "code",
   "execution_count": 36,
   "metadata": {},
   "outputs": [
    {
     "data": {
      "text/plain": [
       "b'Hola mundo!'"
      ]
     },
     "execution_count": 36,
     "metadata": {},
     "output_type": "execute_result"
    }
   ],
   "source": [
    "def DECRYPT(mk, ciphertext, assotiate_data):\n",
    "    tag = ciphertext[:16]\n",
    "    ad_original = ciphertext[16:16+64]\n",
    "    ciphertext = ciphertext[16+64:]\n",
    "\n",
    "    # Key Derivation Function\n",
    "    output_length = 80\n",
    "    prk = hkdf_extract(salt=bytes(output_length), input_key_material=mk, hash=hashlib.sha512)\n",
    "    exp = hkdf_expand(pseudo_random_key=prk, info=b\"Info ENCRYPT/DECRYPT\", length=output_length, hash=hashlib.sha512)\n",
    "\n",
    "    sk = exp[:32] # Encryption Key\n",
    "    ak = exp[32:64] # Authentication Key\n",
    "    iv = exp[64:] # Initialization vector\n",
    "\n",
    "    decryptor = Cipher(\n",
    "        algorithms.AES(key=sk),\n",
    "        modes.GCM(initialization_vector=iv, tag=tag),\n",
    "        backend=default_backend()\n",
    "    ).decryptor()\n",
    "\n",
    "    # Decryption and unpadding.\n",
    "    plaintext = decryptor.update(ciphertext) + decryptor.finalize()\n",
    "    unpadder = padding.PKCS7(128).unpadder()\n",
    "    plaintext = unpadder.update(plaintext) + unpadder.finalize()\n",
    "\n",
    "    # HMAC for authentication of the associate it data.\n",
    "    ad = hmac.new(key=ak, msg=assotiate_data, digestmod=hashlib.sha512).digest() # 512b = 64B\n",
    "\n",
    "    if ad != ad_original:\n",
    "        raise Exception(\"Error authenticating data.\")\n",
    "    \n",
    "    return plaintext\n",
    "\n",
    "DECRYPT(mk=mk, ciphertext=enc_msg, assotiate_data=CONCAT(ad=ad, header=header))"
   ]
  }
 ],
 "metadata": {
  "kernelspec": {
   "display_name": "munics",
   "language": "python",
   "name": "python3"
  },
  "language_info": {
   "codemirror_mode": {
    "name": "ipython",
    "version": 3
   },
   "file_extension": ".py",
   "mimetype": "text/x-python",
   "name": "python",
   "nbconvert_exporter": "python",
   "pygments_lexer": "ipython3",
   "version": "3.11.5"
  }
 },
 "nbformat": 4,
 "nbformat_minor": 2
}
