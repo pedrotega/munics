{
 "cells": [
  {
   "cell_type": "markdown",
   "metadata": {},
   "source": [
    "# Lab assigment 5\n",
    "## Bloom filters\n",
    "\n",
    "### Pedro Otero García & Alexandre Sousa Cajide"
   ]
  },
  {
   "cell_type": "markdown",
   "metadata": {},
   "source": [
    "### Step 1\n",
    "#### Set-up the bloom filter"
   ]
  },
  {
   "cell_type": "code",
   "execution_count": 9,
   "metadata": {},
   "outputs": [
    {
     "name": "stdout",
     "output_type": "stream",
     "text": [
      "Alex: True\n",
      "Anthea: False\n"
     ]
    }
   ],
   "source": [
    "import mmh3\n",
    "\n",
    "class BloomFilter:\n",
    "  def __init__(self, m, k, q):\n",
    "      self.m = m  # Size of the filter\n",
    "      self.k = k  # Number of hash functions\n",
    "      self.q = q  # q-grams\n",
    "\n",
    "      # Create a bit array of size m, initialized with zeros\n",
    "      # This are going to be the bloom filter\n",
    "      self.filter = [0] * m\n",
    "\n",
    "  def add(self, name: str):\n",
    "    for i in range(len(name) - self.q + 1):\n",
    "      self._addQgram(name[i:i+self.q])\n",
    "\n",
    "  def _addQgram(self, qgram):\n",
    "    # Double hash q-gram and set corresponding bits to 1\n",
    "    for i in range(1, self.k + 1):\n",
    "        hash1 = mmh3.hash(qgram)\n",
    "        hash2 = mmh3.hash(qgram, 1)\n",
    "        index = (hash1 + i * hash2) % self.m\n",
    "        self.filter[index] = 1\n",
    "\n",
    "  def check(self, name: str):\n",
    "      if len(name) % 2 != 0:\n",
    "        name += \"_\"\n",
    "      for i in range(len(name) - self.q + 1):\n",
    "        if not self._checkQgram(name[i:i+self.q]):\n",
    "          return False\n",
    "      return True\n",
    "\n",
    "  def _checkQgram(self, qgram):\n",
    "      # Check if all bits are set to 1 for the given q-gram\n",
    "      for i in range(1, self.k + 1):\n",
    "          hash1 = mmh3.hash(qgram)\n",
    "          hash2 = mmh3.hash(qgram, 1)\n",
    "          index = (hash1 + i * hash2) % self.m\n",
    "          if self.filter[index] == 0:\n",
    "              return False\n",
    "      return True\n",
    "\n",
    "\n",
    "# Define parameters\n",
    "m = 10000  # Size of the filter\n",
    "k = 5     # Number of hash functions\n",
    "q = 2     # Number of q-grams\n",
    "\n",
    "# Create and initialize the Bloom Filter\n",
    "bloom_filter = BloomFilter(m, k, q)\n",
    "bloom_filter.add(\"Alex\")\n",
    "bloom_filter.add(\"Pedro\")\n",
    "\n",
    "# Check if a q-gram is in the filter\n",
    "print(\"Alex:\",bloom_filter.check(\"Alex\"))\n",
    "print(\"Anthea:\",bloom_filter.check(\"Anthea\"))"
   ]
  },
  {
   "cell_type": "markdown",
   "metadata": {},
   "source": [
    "### Step 2\n",
    "\n",
    "#### Reading datasets."
   ]
  },
  {
   "cell_type": "code",
   "execution_count": 10,
   "metadata": {},
   "outputs": [
    {
     "name": "stdout",
     "output_type": "stream",
     "text": [
      "     name  frequency\n",
      "0  Daniel        242\n",
      "1  Carlos        130\n",
      "2  Danilo        115\n",
      "3   Carla         48\n",
      "4   David         95\n",
      "       name  frequency\n",
      "0     Peter    1293922\n",
      "1   Michael    1088118\n",
      "2  Wolfgang    1075005\n",
      "3    Thomas    1011277\n",
      "4     Klaus     992990\n"
     ]
    }
   ],
   "source": [
    "import pandas as pd\n",
    "import numpy as np\n",
    "\n",
    "# - Dataset example names\n",
    "en = pd.read_csv('pprl-attack-data/example-names.csv')\n",
    "print(en.head(5))\n",
    "\n",
    "# - German names\n",
    "gn = pd.read_csv('pprl-attack-data/german-names.csv')\n",
    "print(gn.head(5))"
   ]
  },
  {
   "cell_type": "markdown",
   "metadata": {},
   "source": [
    "#### Generate a realistic data."
   ]
  },
  {
   "cell_type": "code",
   "execution_count": 11,
   "metadata": {},
   "outputs": [
    {
     "name": "stdout",
     "output_type": "stream",
     "text": [
      "['Tim', 'Christl', 'Susan', 'Romy', 'Frida']\n",
      "['Tim', 'Susan', 'Christl', 'Frida', 'Romy']\n"
     ]
    }
   ],
   "source": [
    "import random\n",
    "\n",
    "def genDataFrame(df, s):\n",
    "  # - Generate data frame of length l using the names\n",
    "  #   in df with its corresponding f.\n",
    "\n",
    "  samples = []\n",
    "\n",
    "  for _, row in df.iterrows():\n",
    "      name = row['name']\n",
    "      f = row['frequency']\n",
    "\n",
    "      samples.extend([name] * f)\n",
    "\n",
    "  data = np.random.choice(samples, size=s, replace=True)\n",
    "\n",
    "  df_generated = pd.DataFrame({'name': data})\n",
    "\n",
    "  return df_generated\n",
    "\n",
    "def selectNnames(df,n):\n",
    "  # - n random rows of a dataframe.\n",
    "  sampled_df = df.sample(n=n, random_state=random.seed())\n",
    "\n",
    "  return sampled_df\n",
    "\n",
    "\n",
    "df = selectNnames(gn,n=5)\n",
    "print(list(df['name'].unique()))\n",
    "df = genDataFrame(df,1000)\n",
    "print(list(df['name'].unique()))"
   ]
  },
  {
   "cell_type": "markdown",
   "metadata": {},
   "source": [
    "#### Generate a realistic scenario with optimal parameters."
   ]
  },
  {
   "cell_type": "code",
   "execution_count": 24,
   "metadata": {},
   "outputs": [
    {
     "name": "stdout",
     "output_type": "stream",
     "text": [
      "Epsilon = 5e-08\n",
      "n = 500\n",
      "m = 17495\n",
      "k = 24\n",
      "\n",
      "       name\n",
      "0     Gunda\n",
      "1    Martin\n",
      "2   Barbara\n",
      "3  Heribert\n",
      "4    Sabine\n",
      "\n",
      "       name                                             filter\n",
      "0     Gunda  [0, 0, 0, 0, 0, 0, 0, 0, 0, 0, 0, 0, 0, 0, 0, ...\n",
      "1    Martin  [0, 0, 0, 0, 0, 0, 0, 0, 0, 0, 0, 0, 0, 0, 0, ...\n",
      "2   Barbara  [0, 0, 0, 0, 0, 0, 0, 0, 0, 0, 0, 0, 0, 0, 0, ...\n",
      "3  Heribert  [0, 0, 0, 0, 0, 0, 0, 0, 0, 0, 0, 0, 0, 0, 0, ...\n",
      "4    Sabine  [0, 0, 0, 0, 0, 0, 0, 0, 0, 0, 0, 0, 0, 0, 0, ...\n"
     ]
    }
   ],
   "source": [
    "import math\n",
    "\n",
    "def genScenario(n: int, m: int, k: int, s: int) -> [pd.DataFrame, pd.DataFrame, pd.DataFrame]:\n",
    "        '''\n",
    "            Generate a real scenario.\n",
    "            @params:\n",
    "                n: Number of different names in the synthetic dataset.\n",
    "                m: Length of bloom filters. \n",
    "                k: Number of hash functions.\n",
    "                s: Length of the synthetic dataset\n",
    "\n",
    "            @returns:\n",
    "                df: Synthetic dataset of names.\n",
    "                bfs: Bloom filters dataset for each row in df.\n",
    "                real_df: Dataset with the names in df and its corresponding bloom filter.\n",
    "        '''\n",
    "    \n",
    "        df = selectNnames(gn,n)\n",
    "        df = genDataFrame(df,s)\n",
    "\n",
    "        filters = []\n",
    "        freqs = []\n",
    "        for name in df['name'].unique():\n",
    "                bf = BloomFilter(m, k, q)\n",
    "                bf.add(name)\n",
    "                filters.append(bf.filter)\n",
    "                freqs.append(df['name'].value_counts()[name])\n",
    "        bfs = pd.DataFrame({'filter': filters, 'frequency': freqs})\n",
    "\n",
    "        # 'real_df' are going to be used to check the result\n",
    "        # of the attack.\n",
    "        real_df = pd.DataFrame()\n",
    "        real_df['name'] = df['name'].unique()\n",
    "        real_df['filter'] = bfs['filter']\n",
    "\n",
    "        return df, bfs, real_df\n",
    "\n",
    "\n",
    "# - Parameters selected by the user.\n",
    "n = 500\n",
    "# - Optimal parameters.\n",
    "epsilon = 5e-8\n",
    "m = round(-n*math.log(epsilon)/(math.log(2) ** 2))\n",
    "k = round(m/n*math.log(2))\n",
    "\n",
    "print('Epsilon =',epsilon)\n",
    "print('n =',n)\n",
    "print('m =',m)\n",
    "print('k =',k)\n",
    "print()\n",
    "\n",
    "df, bfs, real_df = genScenario(n=n,m=m,k=k,s=10000)\n",
    "print(df.head())\n",
    "print()\n",
    "print(real_df.head())"
   ]
  },
  {
   "cell_type": "markdown",
   "metadata": {},
   "source": [
    "### Step 3\n",
    "\n",
    "#### Code of the attacker"
   ]
  },
  {
   "cell_type": "code",
   "execution_count": 83,
   "metadata": {},
   "outputs": [],
   "source": [
    "def computeQgrams(name: str, q: int) -> list:\n",
    "  q_grams = []\n",
    "  for i in range(len(name) - q + 1):\n",
    "        q_grams.append(name[i:i+q])\n",
    "\n",
    "  return q_grams\n",
    "\n",
    "def getPos1(filter: list) -> list:\n",
    "    pos1 = []\n",
    "    for pos,i in enumerate(filter):\n",
    "        if i == 1:\n",
    "            pos1.append(pos)\n",
    "    return pos1\n",
    "\n",
    "\n",
    "def attack(q: int, t: int, df: pd.DataFrame, bfs: pd.DataFrame) -> [list,list,list]:\n",
    "    '''\n",
    "        Re-identification attack.\n",
    "        @params:\n",
    "            q: number of q-grams.\n",
    "            t: frequency threshold.\n",
    "            df: df to perform the re-identification.\n",
    "            bfs: dataset of the bloom filters.\n",
    "\n",
    "        @returns:\n",
    "            cand_qgs: Candidates q-grams per position of bloom filter.\n",
    "            cand_nms: Candidates names per bloom filter.\n",
    "            list[bfs['filter']]: Bloom filters.\n",
    "    '''\n",
    "\n",
    "    print(\"Bloom filters:\")\n",
    "    bfs = bfs[bfs['frequency'] >= t]\n",
    "    bfs = bfs.sort_values(by='frequency', ascending=False)\n",
    "    print(bfs.head(5))\n",
    "    print(\"Length:\",len(bfs))\n",
    "    print()\n",
    "\n",
    "    print(\"Dataframe for the attack:\")\n",
    "    df4attack = df['name'].value_counts().reset_index()\n",
    "    df4attack.columns = ['name', 'frequency']\n",
    "    df4attack = df4attack[df4attack['frequency'] >= t]\n",
    "    \n",
    "    qgrams = []\n",
    "    for name in df4attack['name']:\n",
    "        qgrams.append(computeQgrams(name, q))\n",
    "\n",
    "    df4attack['q-grams'] = qgrams\n",
    "    df4attack = df4attack.sort_values(by='frequency', ascending=False)\n",
    "    print(df4attack.head(5))\n",
    "    print(\"Length:\",len(df4attack))\n",
    "\n",
    "    # Candidates q-grams\n",
    "    cand_qgs = []\n",
    "\n",
    "    # Computing candidates for each position in filter's length\n",
    "    for i in range(0,len(bfs['filter'].iloc[0])):\n",
    "        pos_cands = [] # Possitive candidates set.\n",
    "        neg_cands = [] # Negative candidates set.\n",
    "        for j, flt in enumerate(bfs['filter']):\n",
    "            qgs = df4attack['q-grams'].iloc[j]\n",
    "            if flt[i] == 1:\n",
    "                pos_cands = list(set(pos_cands + qgs))\n",
    "            else:\n",
    "                neg_cands = list(set(neg_cands + qgs))\n",
    "        cand_qgs.append(list(set(pos_cands)-set(neg_cands)))\n",
    "        \n",
    "    # Re-identification\n",
    "    cand_nms = []\n",
    "    for flt in bfs['filter']:\n",
    "        cn = list(df4attack['name'])\n",
    "        # Checking each position where filter is equal to '1'.\n",
    "        for pos in getPos1(flt):\n",
    "            for _, row in df4attack[['name', 'q-grams']].iterrows():\n",
    "                # Checking if there ARE NOT candidates for a name\n",
    "                # in position 'pos'.\n",
    "                if not any(qg in cand_qgs[pos] for qg in row['q-grams']):\n",
    "                    try:\n",
    "                        cn.remove(row['name'])\n",
    "                    except:\n",
    "                        continue\n",
    "        cand_nms.append(cn)\n",
    "\n",
    "        \n",
    "    return cand_qgs, cand_nms, list(bfs['filter'])"
   ]
  },
  {
   "cell_type": "markdown",
   "metadata": {},
   "source": [
    "### Step 4\n",
    "\n",
    "#### Performing the attack."
   ]
  },
  {
   "cell_type": "code",
   "execution_count": 85,
   "metadata": {},
   "outputs": [
    {
     "name": "stdout",
     "output_type": "stream",
     "text": [
      "Bloom filters:\n",
      "                                               filter  frequency\n",
      "59  [0, 0, 0, 0, 0, 0, 0, 0, 0, 0, 0, 0, 0, 0, 0, ...        257\n",
      "12  [0, 0, 0, 0, 1, 0, 0, 0, 0, 0, 0, 0, 0, 0, 0, ...        232\n",
      "46  [0, 0, 0, 0, 0, 0, 0, 0, 0, 0, 0, 0, 0, 0, 0, ...        228\n",
      "26  [0, 0, 0, 0, 0, 0, 0, 0, 0, 0, 0, 0, 0, 0, 0, ...        217\n",
      "33  [0, 0, 0, 0, 0, 0, 0, 0, 0, 0, 0, 0, 0, 0, 0, ...        215\n",
      "Length: 58\n",
      "\n",
      "Dataframe for the attack:\n",
      "       name  frequency                       q-grams\n",
      "0     Peter        257              [Pe, et, te, er]\n",
      "1   Michael        232      [Mi, ic, ch, ha, ae, el]\n",
      "2  Wolfgang        228  [Wo, ol, lf, fg, ga, an, ng]\n",
      "3     Klaus        217              [Kl, la, au, us]\n",
      "4   Manfred        215      [Ma, an, nf, fr, re, ed]\n",
      "Length: 58\n"
     ]
    }
   ],
   "source": [
    "cand_qgs, cand_nms, filters = attack(q=2, t=50, df=df, bfs=bfs)"
   ]
  },
  {
   "cell_type": "markdown",
   "metadata": {},
   "source": [
    "#### Analyzing results:"
   ]
  },
  {
   "cell_type": "code",
   "execution_count": 106,
   "metadata": {},
   "outputs": [
    {
     "name": "stdout",
     "output_type": "stream",
     "text": [
      "Total Bloom filters to identify: 58\n",
      "[['Peter'], ['Michael'], ['Wolfgang'], ['Klaus'], ['Manfred'], ['Hans'], ['Werner'], ['Maria', 'Marianne'], ['Helmut'], ['Sabine'], ['Dieter'], ['Helga'], ['Günter'], ['Ingrid'], ['Petra'], ['Gisela'], ['Josef'], ['Claudia'], ['Frank'], ['Christa'], ['Stefan'], ['Martin', 'Martina'], ['Barbara'], ['Marianne'], ['Georg'], ['Karl-Heinz'], ['Birgit'], ['Inge', 'Ingeborg'], ['Martina'], ['Susanne'], ['Ute'], ['Rudolf'], ['Norbert'], ['Anna'], ['Rainer'], ['Alfred'], ['Waltraud'], ['Markus'], ['Matthias'], ['Ulrike'], ['Nicole'], ['Willi'], ['Hannelore'], ['Erich'], ['Ingeborg'], ['Anneliese'], ['Regina'], ['Ralf'], ['Dirk'], ['Ilse'], ['Reinhard'], ['Günther'], ['Silke'], ['Erwin'], ['Eva'], ['Sandra'], ['Sonja'], ['Anja']]\n",
      "True\n",
      "True\n",
      "True\n",
      "True\n",
      "True\n",
      "True\n",
      "True\n",
      "True\n",
      "True\n",
      "True\n",
      "True\n",
      "True\n",
      "True\n",
      "True\n",
      "True\n",
      "True\n",
      "True\n",
      "True\n",
      "True\n",
      "True\n",
      "True\n",
      "True\n",
      "True\n",
      "True\n",
      "True\n",
      "True\n",
      "True\n",
      "True\n",
      "True\n",
      "True\n",
      "True\n",
      "True\n",
      "True\n",
      "True\n",
      "True\n",
      "True\n",
      "True\n",
      "True\n",
      "True\n",
      "True\n",
      "True\n",
      "True\n",
      "True\n",
      "True\n",
      "True\n",
      "True\n",
      "True\n",
      "True\n",
      "True\n",
      "True\n",
      "True\n",
      "True\n",
      "True\n",
      "True\n",
      "True\n",
      "True\n",
      "True\n",
      "True\n"
     ]
    }
   ],
   "source": [
    "print(\"Total Bloom filters to identify:\", len(cand_nms))\n",
    "print(cand_nms)\n",
    "for i, cnd in enumerate(cand_nms):\n",
    "    print((real_df[real_df['name']==cnd[0]]['filter'].iloc[0]) == filters[i])\n",
    "    "
   ]
  },
  {
   "cell_type": "code",
   "execution_count": 93,
   "metadata": {},
   "outputs": [
    {
     "data": {
      "text/plain": [
       "False"
      ]
     },
     "execution_count": 93,
     "metadata": {},
     "output_type": "execute_result"
    }
   ],
   "source": [
    "a = [0,1,0,0,1]\n",
    "b = [0,1,0,1,1]\n",
    "a == b"
   ]
  }
 ],
 "metadata": {
  "kernelspec": {
   "display_name": "munics",
   "language": "python",
   "name": "python3"
  },
  "language_info": {
   "codemirror_mode": {
    "name": "ipython",
    "version": 3
   },
   "file_extension": ".py",
   "mimetype": "text/x-python",
   "name": "python",
   "nbconvert_exporter": "python",
   "pygments_lexer": "ipython3",
   "version": "3.11.5"
  }
 },
 "nbformat": 4,
 "nbformat_minor": 2
}
