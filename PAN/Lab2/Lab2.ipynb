{
  "cells": [
    {
      "cell_type": "markdown",
      "metadata": {
        "id": "JEafviqy3-Jy"
      },
      "source": [
        "# Practice 2 PAN\n",
        "\n",
        "## Alexandre Sousa Cajide & Pedro Otero García"
      ]
    },
    {
      "cell_type": "markdown",
      "metadata": {
        "id": "SC-UJv3U6RAw"
      },
      "source": [
        "## Q1"
      ]
    },
    {
      "cell_type": "markdown",
      "metadata": {
        "id": "Z0dUd_897qTc"
      },
      "source": [
        "From the satetment we know that $X_i \\in \\{0,1\\}$. Such as it is shown in the randomize mechanism, $Y_i$ (RR) can be either ther real answer ($X_i$) or an altered answer ($1-X_i$) with a certain probability ($1-\\gamma$, in the case of the strategy). If $X_i=1$, then $1-X_i=0$ and viceversa, it seems that the strategy success defining the mechanism.\n",
        "\n",
        "Now, let's focus at how it works the mechanism:\n",
        "* After the first coin we have a 50% of chances of obtaing truth.\n",
        "* After the second coin, the result are going to be true in half of the cases.\n",
        "\n",
        "Therefore, we know that the final result are going to be tampered in 25% of the cases, i.e. $\\gamma=\\frac{3}{4}$."
      ]
    },
    {
      "cell_type": "code",
      "execution_count": 13,
      "metadata": {
        "colab": {
          "base_uri": "https://localhost:8080/"
        },
        "id": "MsuGoHOr8fBE",
        "outputId": "782fd057-ee36-4e41-f2f4-6b43011afbcd"
      },
      "outputs": [
        {
          "name": "stdout",
          "output_type": "stream",
          "text": [
            "0.75\n"
          ]
        }
      ],
      "source": [
        "p = 0.5 #Probabilidad de haber copiado\n",
        "gamma = 0.5 + p*0.25 + (1-p)*0.25\n",
        "print(gamma)"
      ]
    },
    {
      "cell_type": "markdown",
      "metadata": {
        "id": "wjYmHBSl-C4Z"
      },
      "source": [
        "## Q2"
      ]
    },
    {
      "cell_type": "code",
      "execution_count": 10,
      "metadata": {
        "colab": {
          "base_uri": "https://localhost:8080/"
        },
        "id": "z6dWth-GCL57",
        "outputId": "ca8a1332-db7e-4dea-e3d6-b09321e6fcd6"
      },
      "outputs": [
        {
          "data": {
            "text/plain": [
              "0.7507699999999999"
            ]
          },
          "execution_count": 10,
          "metadata": {},
          "output_type": "execute_result"
        }
      ],
      "source": [
        "import numpy as np\n",
        "\n",
        "def avg(v):\n",
        "    return sum(v)/len(v)\n",
        "\n",
        "def rr(X):\n",
        "    Y = []\n",
        "    for i in X:\n",
        "        coin = np.random.binomial(n=1, p=0.5)\n",
        "        # coin = 1 => Face\n",
        "        if not coin:\n",
        "            Y.append(i)\n",
        "        else:\n",
        "            coin = np.random.binomial(n=1, p=0.5)\n",
        "            if coin:\n",
        "                Y.append(0) # Not cheated\n",
        "            else:\n",
        "                Y.append(1) # Cheated\n",
        "\n",
        "    return np.array(Y)\n",
        "\n",
        "n = 100000\n",
        "p = 0.2\n",
        "X = np.random.binomial(n=1, p=p, size=n)\n",
        "\n",
        "Y = rr(X)\n",
        "\n",
        "gamma_hat = 1 - avg(Y ^ X)\n",
        "gamma_hat"
      ]
    },
    {
      "cell_type": "markdown",
      "metadata": {
        "id": "0NnVUm6g38ak"
      },
      "source": [
        "## Q3"
      ]
    },
    {
      "cell_type": "markdown",
      "metadata": {
        "id": "3PXvX6xoDBGH"
      },
      "source": [
        "The value $q$ shows the probability that a random answer is _CHEATED_ or not. We already know that:\n",
        "* In the 50% of the cases the answer does not change and it has a probability $p$ that be _CHEATED_.\n",
        "* In the other 50%, the probability to be _CHEATED_ is 50%.\n",
        "\n",
        "Thus, we have to take into account two probabilities:\n",
        "\n",
        "* Do not change the answer and cheat: $\\gamma p$\n",
        "* Change the answer and do not cheat: $(1-\\gamma)\\cdot (1-p)$\n",
        "\n",
        "Which gives rise to:\n",
        "\n",
        "$$\n",
        "q = \\gamma p + (1-\\gamma)\\cdot(1-p) = 2\\gamma p +1 -p-\\gamma \\iff\\\\\n",
        "\\iff \\hat{p}=\\frac{q+\\gamma -1}{2\\gamma -1}\n",
        "$$\n",
        "\n",
        "If we apply the result of the last question ($\\gamma=\\frac{3}{4}$):\n",
        "\n",
        "$$\n",
        "q = \\frac{1}{2}p + \\frac{1}{4}\\\\\n",
        "\\hat{p}=2q -\\frac{1}{2}\n",
        "$$\n",
        "\n",
        "\n"
      ]
    },
    {
      "cell_type": "markdown",
      "metadata": {
        "id": "yLiL5PhG334l"
      },
      "source": [
        "## Q4"
      ]
    },
    {
      "cell_type": "code",
      "execution_count": 12,
      "metadata": {
        "colab": {
          "base_uri": "https://localhost:8080/",
          "height": 447
        },
        "id": "s-v38I76Zcjw",
        "outputId": "d41c84c9-1cfa-4f72-fca3-750a6caa89e9"
      },
      "outputs": [
        {
          "name": "stdout",
          "output_type": "stream",
          "text": [
            "Average of results: 0.0007400000000000095\n"
          ]
        },
        {
          "data": {
            "image/png": "[encoded data removed]",
            "text/plain": [
              "<Figure size 640x480 with 1 Axes>"
            ]
          },
          "metadata": {},
          "output_type": "display_data"
        }
      ],
      "source": [
        "import matplotlib.pyplot as plt\n",
        "\n",
        "results = []\n",
        "n = 10000\n",
        "p = 0.2\n",
        "for i in range(50):\n",
        "    X = np.random.binomial(n=1, p=p, size=n)\n",
        "    Y = rr(X)\n",
        "    q = sum(Y)/len(Y)\n",
        "    p_hat = 2*q - 1/2\n",
        "    results.append(p-p_hat)\n",
        "\n",
        "plt.scatter(range(len(results)), results, marker='o', color='b', label='p-p_hat')\n",
        "plt.ylim(-0.5,0.5)\n",
        "print(\"Average of results: \"+str(avg(results)))"
      ]
    },
    {
      "cell_type": "markdown",
      "metadata": {
        "id": "w9yvFB8x3423"
      },
      "source": [
        "## Q5"
      ]
    },
    {
      "cell_type": "markdown",
      "metadata": {
        "id": "W7FJPQAtbQMS"
      },
      "source": [
        "Our goal in this exercise is compute $Var[p-\\hat{p}]$. Knowing that $p$ is the average of $X$ and the expectation for $\\hat{p}$ ($E[\\hat{p}]=p$), its variance in $0$ $\\Rightarrow Var[p-\\hat{p}]=Var[\\hat{p}]$.\n",
        "\n",
        "* From Q5: $\\quad\\hat{p}=\\frac{q+\\gamma -1}{2\\gamma -1}$\n",
        "\n",
        "$$\n",
        "Var[\\hat{p}] = Var\\left[\\frac{q+\\gamma -1}{2\\gamma -1}\\right]=\\left(\\frac{1}{2\\gamma -1}\\right)^2\\cdot\\bigl(Var[q]+Var[\\gamma-1]\\bigr)=^{*_{1,2}}\\\\\n",
        "$$\n",
        "\n",
        "$$\n",
        "= \\left(\\frac{1}{2\\gamma -1}\\right)^2 \\frac{q\\cdot (1-q)}{n}=^{*_3}\\\\\n",
        "$$\n",
        "\n",
        "$$\n",
        "= \\left(\\frac{1}{2\\gamma -1}\\right)^2 \\cdot\\frac{(2\\gamma p +1 -p-\\gamma)(-2\\gamma p +p+\\gamma)}{n}\n",
        "$$\n",
        "\n",
        "\n",
        "* For $\\gamma=\\frac{3}{4}$: $Var[p-\\hat{p}]=4\\cdot\\frac{-4p^2+4p+3}{4n}= \\frac{-4p^2+4p+3}{n}$\n",
        "\n",
        "\n",
        "($*_1$) As long as $\\gamma -1$ is a constant $\\Rightarrow Var[\\gamma -1]=0$.\n",
        "\n",
        "($*_2$)\n",
        "$$\n",
        "Var[q]=Var\\left[\\frac{1}{n}\\sum_{i=1}^n Y_i\\right]=\\frac{1}{n^2}\\sum_{i=1}^nVar\\left[ Y_i\\right]=^{*_4}\\\\\n",
        "=\\frac{1}{n}Var\\left[Y_i\\right]=^{*_5}\\frac{q\\cdot (1-q)}{n}\n",
        "$$\n",
        "\n",
        "($*_3$) In Q3 we obtained that $q = \\gamma p + (1-\\gamma)\\cdot(1-p)= 2\\gamma p +1 -p-\\gamma$\n",
        "\n",
        "($*_4$) The variables $Y_i$ are independent.\n",
        "\n",
        "($*_5$)\n",
        "$$\n",
        "Var[Y_i]= E[Y_i^2]-E[Y_i]^2 = q - q^2 = q(1-q)\\\\\n",
        "$$\n",
        "\n",
        "* $E[Y_i] = P[Y_i = 1]\\cdot 1 + P[Y_i=0]\\cdot 0= P[Y_i = 1]=q$\n",
        "* $E[Y_i^2] = P[Y_i^2 = 1]\\cdot 1 + P[Y_i^2=0]\\cdot 0=\\\\\n",
        "= P[Y_i^2 = 1]=P[Y_i=1]=q$\n",
        "\n",
        "\n",
        "# -\n",
        "\n",
        "When $n$ grows the second part of $Var[p-\\hat{p}]$ tends to decrease in absolute value (the result is closest to 0). Therefore:\n",
        "\n",
        "$$\n",
        "\\lim_{n \\to \\infty}(Var[p-\\hat{p}])=0\n",
        "$$\n",
        "\n",
        "I.e. the variance of is null and as long as $E[\\hat{p}]=p$, then it means that for $n\\rightarrow\\infty\\Rightarrow\\hat{p}=p$ ."
      ]
    },
    {
      "cell_type": "markdown",
      "metadata": {
        "id": "4rjTmNJGPCU6"
      },
      "source": [
        "## Q6"
      ]
    },
    {
      "cell_type": "code",
      "execution_count": 55,
      "metadata": {
        "colab": {
          "base_uri": "https://localhost:8080/",
          "height": 536
        },
        "id": "MUzy3peTwkVI",
        "outputId": "1544164a-9b6d-4dba-cbd2-2c1911b0a7c3"
      },
      "outputs": [
        {
          "name": "stdout",
          "output_type": "stream",
          "text": [
            "Result for n=1000: \n",
            "\t - Empirical variance: 0.000809\n",
            "\t - Theoretical variance: 0.003040\n",
            "\n"
          ]
        },
        {
          "data": {
            "text/plain": [
              "(-0.005, 0.005)"
            ]
          },
          "execution_count": 55,
          "metadata": {},
          "output_type": "execute_result"
        },
        {
          "data": {
            "image/png": "[encoded data removed]",
            "text/plain": [
              "<Figure size 640x480 with 1 Axes>"
            ]
          },
          "metadata": {},
          "output_type": "display_data"
        }
      ],
      "source": [
        "def compute_emp_and_th_vars(p: float, n: int, times: int):\n",
        "  p_array = []\n",
        "\n",
        "  for i in range(times):\n",
        "    X = np.random.binomial(n=1, p=p, size=n)\n",
        "    p_array.append(avg(X))\n",
        "\n",
        "  avg_p = avg(p_array)\n",
        "  emp_var = sum((p_array - avg_p) ** 2)/n\n",
        "  th_var = (-4*p**2 + p + 3)/n\n",
        "\n",
        "  return emp_var, th_var\n",
        "\n",
        "p=0.2; times=5000; n = 1000\n",
        "\n",
        "emp_var, th_var = compute_emp_and_th_vars(p, n, times)\n",
        "print('Result for n=%i: \\n'\n",
        "      '\\t - Empirical variance: %f\\n'\n",
        "      '\\t - Theoretical variance: %f\\n' % (n, emp_var, th_var))\n",
        "\n",
        "n_array = np.linspace(50, 5000, 100)\n",
        "p_plot = []\n",
        "for i in n_array:\n",
        "    emp_var, _ = compute_emp_and_th_vars(p=p, n=int(i), times=times)\n",
        "    p_plot.append(emp_var)\n",
        "\n",
        "plt.xlabel('n values')\n",
        "plt.ylabel('Empirical variance')\n",
        "plt.scatter(n_array, p_plot, marker='o', color='b', label='p-p_hat')\n",
        "plt.ylim(-0.005,0.005)"
      ]
    },
    {
      "cell_type": "markdown",
      "metadata": {
        "id": "kH1_juHYzRQu"
      },
      "source": [
        "## Q7\n"
      ]
    },
    {
      "cell_type": "markdown",
      "metadata": {
        "id": "hOMm6tx6zvkf"
      },
      "source": [
        "On the one hand, when $\\gamma=1$ the result is deterministic and is the truth, and viceversa for $\\gamma = 0$ (the result is always tamped):\n",
        "\n",
        "$$\n",
        "q=\\gamma p + (1-\\gamma)\\cdot(1-p)\\\\\n",
        "Var[p-\\hat{p}]= \\left(\\frac{1}{2\\gamma -1}\\right)^2 \\cdot\\frac{(2\\gamma p +1 -p-\\gamma)(-2\\gamma p +p+\\gamma)}{n}\\\\\n",
        "\\gamma = 1 \\Rightarrow q = p,\\quad Var[p-\\hat{p}]=\\frac{p(1-p)}{n}\\\\\n",
        "\\gamma = 0 \\Rightarrow q = 1-p\\quad Var[p-\\hat{p}]=\\frac{p(1-p)}{n}\n",
        "$$\n",
        "\n",
        "We can recovery the number of students who *CHEATED* (the best accuracy but no privacy).\n",
        "\n",
        "On the other mand, when $\\gamma=\\frac{1}{2}$ we don't have any clue about the real answers:\n",
        "\n",
        "$$\n",
        "\\gamma = \\frac{1}{2} \\Rightarrow q = \\frac{1}{2}, \\quad Var[p-\\hat{p}]=\\infty\n",
        "$$\n",
        "\n",
        "We have that $q$ is independent of $p$ and the variance is $\\infty$ achiving the maximum privacy but the lower accuracy.\n",
        "\n"
      ]
    },
    {
      "cell_type": "markdown",
      "metadata": {
        "id": "41JXY-U2cerh"
      },
      "source": [
        "## Q8\n"
      ]
    },
    {
      "cell_type": "markdown",
      "metadata": {
        "id": "8dFSpc5NqwkK"
      },
      "source": [
        "I know, as a professor, the values of $Y_i$ when students trust me. When they don't trust me, Prof. Trustworthy give me q. The values of $Y_i$ are anonymous so the order of the answers are not important an we can already compute the number of $Y_i= CHEATED$ as long as we know the number of students and $q$:\n",
        "\n",
        "$$\n",
        "\\quad \\sum_{i=1}^n Y_i = q / n\n",
        "$$\n",
        "\n",
        "Therefore, students does not increase their security because we can obtain the same information in both scenarios."
      ]
    }
  ],
  "metadata": {
    "colab": {
      "provenance": []
    },
    "kernelspec": {
      "display_name": "Python 3",
      "name": "python3"
    },
    "language_info": {
      "name": "python",
      "version": "3.10.12"
    }
  },
  "nbformat": 4,
  "nbformat_minor": 0
}
