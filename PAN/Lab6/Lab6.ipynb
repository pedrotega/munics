{
 "cells": [
  {
   "cell_type": "markdown",
   "metadata": {},
   "source": [
    "# Lab 6\n",
    "\n",
    "### Pedro Otero García & Alexandre Sousa Cajide"
   ]
  },
  {
   "cell_type": "code",
   "execution_count": 1,
   "metadata": {},
   "outputs": [
    {
     "name": "stdout",
     "output_type": "stream",
     "text": [
      "     Age  ZipCode    Disease\n",
      "66     7    40500     Angine\n",
      "67     7    40500      Otite\n",
      "65     8    75000  Urticaire\n",
      "151    8    75001  Varicelle\n",
      "10     8    75002     Eczéma\n",
      "Age         int64\n",
      "ZipCode     int64\n",
      "Disease    object\n",
      "dtype: object\n",
      "\n",
      "\n",
      "\n",
      "   age workclass     education marital.status         occupation   race  \\\n",
      "0   90         ?       HS-grad        Widowed                  ?  White   \n",
      "1   82   Private       HS-grad        Widowed    Exec-managerial  White   \n",
      "2   66         ?  Some-college        Widowed                  ?  Black   \n",
      "3   54   Private       7th-8th       Divorced  Machine-op-inspct  White   \n",
      "4   41   Private  Some-college      Separated     Prof-specialty  White   \n",
      "\n",
      "      sex native.country income  \n",
      "0  Female  United-States  <=50K  \n",
      "1  Female  United-States  <=50K  \n",
      "2  Female  United-States  <=50K  \n",
      "3  Female  United-States  <=50K  \n",
      "4  Female  United-States  <=50K  \n",
      "age                int64\n",
      "workclass         object\n",
      "education         object\n",
      "marital.status    object\n",
      "occupation        object\n",
      "race              object\n",
      "sex               object\n",
      "native.country    object\n",
      "income            object\n",
      "dtype: object\n"
     ]
    }
   ],
   "source": [
    "import numpy as np\n",
    "import pandas as pd\n",
    "\n",
    "\n",
    "def generate_dataset(n: int=200):\n",
    "    '''\n",
    "    Generates a toy dataset containing n distinct samples.\n",
    "\n",
    "    - n: number of samples to generate\n",
    "\n",
    "    Returns:\n",
    "    - A tuple containing:\n",
    "        * Dataset as a Pandas Dataframe\n",
    "        * List of quasi-identifiers\n",
    "        * Sensitive column name\n",
    "    '''\n",
    "    diseases = np.array([\"Angine\", \"Appendicite\", \"Chlamydia\", \"Cataracte\", \"Dengue\", \n",
    "                         \"Eczéma\", \"Grippe\", \"Hépatite B\", \"Hépatite C\", \"Rhino-pharyngite\", \n",
    "                         \"Otite\", \"Rougeole\", \"Scarlatine\", \"Urticaire\", \"Varicelle\", \"Zona\"])\n",
    "    zipcodes = np.array([35000, 35200, 37000, 40000, 40500, 50000, 52000, 60000, 62000, 68000, \n",
    "                         75000, 75001, 75002, 75005])\n",
    "\n",
    "    rows = []\n",
    "    for _ in range(n):\n",
    "        row = {'Age':np.random.randint(7, 77), 'ZipCode':np.random.choice(zipcodes), 'Disease':np.random.choice(diseases)}\n",
    "        while row in rows:\n",
    "            row = {'Age':np.random.randint(7, 77), 'ZipCode':np.random.choice(zipcodes), 'Disease':np.random.choice(diseases)}\n",
    "        rows.append(row)\n",
    "        \n",
    "        \n",
    "    dataset = pd.DataFrame(rows)\n",
    "    dataset.sort_values(by = ['Age', 'ZipCode'], inplace=True)\n",
    "\n",
    "    return dataset, ['Age', 'ZipCode'], 'Disease'\n",
    "\n",
    "syn_df, qids, sensitive_data = generate_dataset()\n",
    "dtypes = {\n",
    "    'Age': int,\n",
    "    'ZipCode': int,\n",
    "    'Disease': str,\n",
    "}\n",
    "\n",
    "print(syn_df.head(5))\n",
    "print(syn_df.dtypes)\n",
    "print('\\n\\n')\n",
    "\n",
    "adult_df = pd.read_csv('adult.csv')\n",
    "dtypes = {\n",
    "    'age': int,\n",
    "    'workclass': str,\n",
    "    'education': str,\n",
    "    'marital.status': str,\n",
    "    'occupation': str,\n",
    "    'race': str,\n",
    "    'sex': str,\n",
    "    'native.country': str,\n",
    "    'income': str\n",
    "}\n",
    "\n",
    "print(adult_df.head(5))\n",
    "print(adult_df.dtypes)"
   ]
  },
  {
   "cell_type": "markdown",
   "metadata": {},
   "source": [
    "### Exercise 1"
   ]
  },
  {
   "cell_type": "code",
   "execution_count": 2,
   "metadata": {},
   "outputs": [],
   "source": [
    "def order_qids(data: pd.DataFrame, qids: list) -> list:\n",
    "    '''\n",
    "        order_qids: Order the qids by the number of unique values (descending).\n",
    "    '''\n",
    "    # Computing the quantity of unique values per column.\n",
    "    unique_counts = data[qids].apply(lambda x: len(x.unique()))\n",
    "\n",
    "    # Sorting qids by unique values\n",
    "    qids_sorted = unique_counts.sort_values(ascending=False).index\n",
    "\n",
    "    return qids_sorted\n",
    "\n",
    "\n",
    "def anonymize(data: pd.DataFrame, qids: list):\n",
    "    data = data.copy()\n",
    "    for qid in qids:\n",
    "        if data[qid].dtype == int:\n",
    "            d_min = min(data[qid])\n",
    "            d_max = max(data[qid])\n",
    "            gen=f\"[{d_min} - {d_max}]\"\n",
    "            data[qid] = gen\n",
    "        else:\n",
    "            data[qid] = str(data[qid].unique())\n",
    "            # data[qid] = '*'\n",
    "\n",
    "    return data\n",
    "\n",
    "\n",
    "def mondrian_step(data: pd.DataFrame, qids: list, k: int):\n",
    "    # Check if there is a valid partition.\n",
    "    # At least we need 2k items to do two partitions of k items.\n",
    "    if len(data) < 2*k:\n",
    "        return [data] \n",
    "    \n",
    "    # Widest dimension.\n",
    "    dim = order_qids(data=data, qids=qids)[0]\n",
    "    \n",
    "    data = data.sort_values(by=dim)\n",
    "    \n",
    "    # Median.\n",
    "    m = len(data)//2\n",
    "\n",
    "    lhs = data[:m]\n",
    "    rhs = data[m:]    \n",
    "\n",
    "    return [lhs, rhs]\n",
    "\n",
    "\n",
    "def mondrian(data: pd.DataFrame, qids: list, k: int):\n",
    "    partitions = [data]\n",
    "    finish = False\n",
    "    while not finish:\n",
    "        parts = []\n",
    "        for p in partitions:\n",
    "            pts = mondrian_step(data=p, qids=qids, k=k)\n",
    "            #print(pts)\n",
    "            parts += pts\n",
    "        partitions = parts\n",
    "        for p in partitions:\n",
    "            finish = True\n",
    "            if len(p) > 2*k:\n",
    "                finish = False\n",
    "                break\n",
    "            # if len(p) >= 2*k:\n",
    "            #     finish = False\n",
    "            #     continue\n",
    "            # else:\n",
    "            #     finish = True\n",
    "    \n",
    "    anonymized_partitions = []\n",
    "    for p in partitions:\n",
    "        anonymized_partitions.append(anonymize(data=p, qids=qids))\n",
    "    anonymized_data = pd.concat(anonymized_partitions)\n",
    "\n",
    "    return anonymized_data\n",
    "\n",
    "\n"
   ]
  },
  {
   "cell_type": "markdown",
   "metadata": {},
   "source": [
    "### Exercise 2"
   ]
  },
  {
   "cell_type": "markdown",
   "metadata": {},
   "source": [
    "* a) Toy dataset"
   ]
  },
  {
   "cell_type": "code",
   "execution_count": 3,
   "metadata": {},
   "outputs": [
    {
     "name": "stdout",
     "output_type": "stream",
     "text": [
      "          Age          ZipCode           Disease\n",
      "23   [7 - 10]  [35200 - 40500]            Grippe\n",
      "95   [7 - 10]  [35200 - 40500]  Rhino-pharyngite\n",
      "66   [7 - 10]  [35200 - 40500]            Angine\n",
      "67   [7 - 10]  [40500 - 60000]             Otite\n",
      "84   [7 - 10]  [40500 - 60000]         Chlamydia\n",
      "135  [7 - 10]  [40500 - 60000]              Zona\n",
      "139  [8 - 10]  [62000 - 75001]            Dengue\n",
      "65   [8 - 10]  [62000 - 75001]         Urticaire\n",
      "151  [8 - 10]  [62000 - 75001]         Varicelle\n",
      "10    [8 - 9]  [75002 - 75005]            Eczéma\n"
     ]
    }
   ],
   "source": [
    "k = 3\n",
    "data = syn_df\n",
    "qids = list(data.columns)\n",
    "qids.remove('Disease')\n",
    "anonymized_data = mondrian(data=data, qids=qids, k=k)\n",
    "anonymized_data.to_csv('generated.csv', index=False)\n",
    "print(anonymized_data.head(10))"
   ]
  },
  {
   "cell_type": "markdown",
   "metadata": {},
   "source": [
    "* b) Adult dataset"
   ]
  },
  {
   "cell_type": "code",
   "execution_count": 4,
   "metadata": {},
   "outputs": [
    {
     "name": "stdout",
     "output_type": "stream",
     "text": [
      "             age                workclass  \\\n",
      "28306  [17 - 18]              ['Private']   \n",
      "24996  [17 - 18]              ['Private']   \n",
      "19034  [17 - 18]              ['Private']   \n",
      "24435  [19 - 21]              ['Private']   \n",
      "18980  [19 - 21]              ['Private']   \n",
      "1004   [19 - 21]              ['Private']   \n",
      "16708  [19 - 21]              ['Private']   \n",
      "30565  [22 - 23]  ['Private' 'Local-gov']   \n",
      "15799  [22 - 23]  ['Private' 'Local-gov']   \n",
      "18     [22 - 23]  ['Private' 'Local-gov']   \n",
      "\n",
      "                                  education  \\\n",
      "28306                       ['11th' '12th']   \n",
      "24996                       ['11th' '12th']   \n",
      "19034                       ['11th' '12th']   \n",
      "24435                ['12th' '10th' '11th']   \n",
      "18980                ['12th' '10th' '11th']   \n",
      "1004                 ['12th' '10th' '11th']   \n",
      "16708                ['12th' '10th' '11th']   \n",
      "30565  ['7th-8th' 'Assoc-acdm' 'Assoc-voc']   \n",
      "15799  ['7th-8th' 'Assoc-acdm' 'Assoc-voc']   \n",
      "18     ['7th-8th' 'Assoc-acdm' 'Assoc-voc']   \n",
      "\n",
      "                                  marital.status  \\\n",
      "28306                          ['Never-married']   \n",
      "24996                          ['Never-married']   \n",
      "19034                          ['Never-married']   \n",
      "24435  ['Never-married' 'Married-spouse-absent']   \n",
      "18980  ['Never-married' 'Married-spouse-absent']   \n",
      "1004   ['Never-married' 'Married-spouse-absent']   \n",
      "16708  ['Never-married' 'Married-spouse-absent']   \n",
      "30565     ['Married-civ-spouse' 'Never-married']   \n",
      "15799     ['Married-civ-spouse' 'Never-married']   \n",
      "18        ['Married-civ-spouse' 'Never-married']   \n",
      "\n",
      "                                 occupation                       race  \\\n",
      "28306                 ['Handlers-cleaners']                  ['White']   \n",
      "24996                 ['Handlers-cleaners']                  ['White']   \n",
      "19034                 ['Handlers-cleaners']                  ['White']   \n",
      "24435  ['Adm-clerical' 'Handlers-cleaners']  ['White' 'Other' 'Black']   \n",
      "18980  ['Adm-clerical' 'Handlers-cleaners']  ['White' 'Other' 'Black']   \n",
      "1004   ['Adm-clerical' 'Handlers-cleaners']  ['White' 'Other' 'Black']   \n",
      "16708  ['Adm-clerical' 'Handlers-cleaners']  ['White' 'Other' 'Black']   \n",
      "30565  ['Handlers-cleaners' 'Adm-clerical']  ['Other' 'White' 'Black']   \n",
      "15799  ['Handlers-cleaners' 'Adm-clerical']  ['Other' 'White' 'Black']   \n",
      "18     ['Handlers-cleaners' 'Adm-clerical']  ['Other' 'White' 'Black']   \n",
      "\n",
      "                     sex              native.country income  \n",
      "28306           ['Male']   ['?' 'Canada' 'Columbia']  <=50K  \n",
      "24996           ['Male']   ['?' 'Canada' 'Columbia']  <=50K  \n",
      "19034           ['Male']   ['?' 'Canada' 'Columbia']  <=50K  \n",
      "24435           ['Male']  ['?' 'Dominican-Republic']  <=50K  \n",
      "18980           ['Male']  ['?' 'Dominican-Republic']  <=50K  \n",
      "1004            ['Male']  ['?' 'Dominican-Republic']  <=50K  \n",
      "16708           ['Male']  ['?' 'Dominican-Republic']  <=50K  \n",
      "30565  ['Female' 'Male']         ['El-Salvador' '?']  <=50K  \n",
      "15799  ['Female' 'Male']         ['El-Salvador' '?']  <=50K  \n",
      "18     ['Female' 'Male']         ['El-Salvador' '?']   >50K  \n"
     ]
    }
   ],
   "source": [
    "k = 2\n",
    "data = adult_df\n",
    "qids = list(data.columns)\n",
    "qids.remove('income')\n",
    "anonymized_data = mondrian(data=data, qids=qids, k=k)\n",
    "anonymized_data.to_csv('generated_adult.csv', index=False)\n",
    "print(anonymized_data.head(10))"
   ]
  },
  {
   "cell_type": "markdown",
   "metadata": {},
   "source": [
    "### Exercise 3\n",
    "\n",
    "For this exercise, it will be modifed the mondrian function of the exercise 1. The workflow are going to be basicly the same, however, two new functions are going to be added before the anonimization of data to fix data in order to achive *l-diversity* and *t-closeness*."
   ]
  },
  {
   "cell_type": "code",
   "execution_count": null,
   "metadata": {},
   "outputs": [],
   "source": [
    "# def checkLDiversity(p: pd.DataFrame, sens: list, l: int):\n",
    "#     return len(p[sens].drop_duplicates()) < l\n",
    "\n",
    "# def achiveLDiversity(partitions: list, sens: list, l: int):\n",
    "#     for p in partitions:\n",
    "#         if not checkLDiversity(p, sens, l):\n",
    "#             for p in partitions:\n",
    "                \n",
    "\n",
    "        \n",
    "def mondrian(data: pd.DataFrame, qids: list, k: int, l: int):\n",
    "    partitions = [data]\n",
    "    finish = False\n",
    "    while not finish:\n",
    "        parts = []\n",
    "        for p in partitions:\n",
    "            pts = mondrian_step(data=p, qids=qids, k=k)\n",
    "            parts += pts\n",
    "        partitions = parts\n",
    "        for p in partitions:\n",
    "            finish = True\n",
    "            if len(p) > 2*k:\n",
    "                finish = False\n",
    "                break\n",
    "\n",
    "    \n",
    "    anonymized_partitions = []\n",
    "    for p in partitions:\n",
    "        anonymized_partitions.append(anonymize(data=p, qids=qids))\n",
    "    anonymized_data = pd.concat(anonymized_partitions)\n",
    "\n",
    "    return anonymized_data"
   ]
  },
  {
   "cell_type": "code",
   "execution_count": 49,
   "metadata": {},
   "outputs": [
    {
     "name": "stdout",
     "output_type": "stream",
     "text": [
      "0.0\n",
      "0.0\n",
      "0.0\n",
      "-0.2\n",
      "0.0\n"
     ]
    },
    {
     "data": {
      "text/plain": [
       "0.05"
      ]
     },
     "execution_count": 49,
     "metadata": {},
     "output_type": "execute_result"
    }
   ],
   "source": [
    "x = [1/5]*5\n",
    "y = [1/5,1/5,1/5,1/5,1/5]\n",
    "y = [0,2/5,1/5,1/5,1/5]\n",
    "y = [1/10,4/10,2/10,2/10,1/10]\n",
    "\n",
    "y = [1/5,4/5,0,0,0]\n",
    "y = [1/5,1/5,1/5,2/5,0]\n",
    "\n",
    "m = len(x)\n",
    "\n",
    "tcloss = 0\n",
    "for i in range(0,m):\n",
    "    suma = 0\n",
    "    for j in range(0,i+1):\n",
    "        suma += x[j] - y[j]\n",
    "    print(round(suma,2))\n",
    "    tcloss += abs(round(suma,2))\n",
    "\n",
    "tcloss *= 1/(m-1)\n",
    "tcloss"
   ]
  },
  {
   "cell_type": "code",
   "execution_count": 32,
   "metadata": {},
   "outputs": [],
   "source": [
    "for i in range(0,0):\n",
    "    print(1233)"
   ]
  },
  {
   "cell_type": "code",
   "execution_count": 15,
   "metadata": {},
   "outputs": [
    {
     "name": "stdout",
     "output_type": "stream",
     "text": [
      "Number of different rows between columns A and B: 1\n"
     ]
    }
   ],
   "source": [
    "import pandas as pd\n",
    "\n",
    "# Example DataFrame\n",
    "data = {\n",
    "    'A': [1, 2, 2, 3, 4],\n",
    "    'B': [1, 2, 2, 3, 5],\n",
    "    'C': [10, 20, 20, 30, 40],\n",
    "    'D': [11, 22, 22, 33, 44],\n",
    "    'E': [12, 23, 23, 34, 45]\n",
    "}\n",
    "df = pd.DataFrame(data)\n",
    "\n",
    "# Counting unique combinations of rows in columns A and B\n",
    "count_unique_AB = df.duplicated(subset=['A', 'B']).sum()\n",
    "\n",
    "print(f\"Number of different rows between columns A and B: {count_unique_AB}\")\n"
   ]
  },
  {
   "cell_type": "code",
   "execution_count": 27,
   "metadata": {},
   "outputs": [
    {
     "name": "stdout",
     "output_type": "stream",
     "text": [
      "   A  B\n",
      "0  1  1\n",
      "1  2  2\n",
      "2  2  2\n",
      "3  3  3\n",
      "4  4  5\n"
     ]
    },
    {
     "data": {
      "text/plain": [
       "4"
      ]
     },
     "execution_count": 27,
     "metadata": {},
     "output_type": "execute_result"
    }
   ],
   "source": [
    "print(df[['A','B']])\n",
    "len(df[['A','B']].drop_duplicates())"
   ]
  },
  {
   "cell_type": "code",
   "execution_count": null,
   "metadata": {},
   "outputs": [],
   "source": []
  }
 ],
 "metadata": {
  "kernelspec": {
   "display_name": "munics",
   "language": "python",
   "name": "python3"
  },
  "language_info": {
   "codemirror_mode": {
    "name": "ipython",
    "version": 3
   },
   "file_extension": ".py",
   "mimetype": "text/x-python",
   "name": "python",
   "nbconvert_exporter": "python",
   "pygments_lexer": "ipython3",
   "version": "3.10.12"
  }
 },
 "nbformat": 4,
 "nbformat_minor": 2
}
